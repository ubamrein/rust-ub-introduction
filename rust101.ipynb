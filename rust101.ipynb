{
 "cells": [
  {
   "cell_type": "markdown",
   "metadata": {},
   "source": [
    "# Rust 101\n",
    "\n",
    "## Ziel\n",
    "Das Ziel des Tutorials ist es, eine Einführung in Rust zu bekommen, und am Ende einen Compiler und Interpreter von UB++ zu haben. Das ganze Projekt wird am Ende als Github-Repository zur Verfügung gestellt. Hier werden wir Schritt für Schritt versuchen, uns an das Endprodukt anzutasten, und jeweils einzelne wichtige Aspekte von Rust kennen lernen.\n",
    "\n",
    "## UB++\n",
    "\n",
    "Wie wir alle wissen, machen wir Geilen Scheiss (TM). Es ist aber viel geilerer Scheiss, wenn der Scheiss auch so geschrieben wird, wie der Schnabel wächst. Entsprechend kann jeder in diesem Tutorial, die Keywords seinem Schnabel nach anpassen.\n",
    "\n",
    "UB++ ist eine einfache (interpretierte) Sprache, angelehnt an Java, die simple Logik und Berechnungen erlaubt.\n",
    "\n",
    "```\n",
    "definier e variable wo priimZahl heisst mit em wert e frog \"Was füre Zahl wotsch teste?\";\n",
    "definier e variable wo teiler heisst mit em wert 2;\n",
    "definier e variable wo primzahlWurzel heisst mit em wert priimZahl hoch 0.5;\n",
    "definier e variable wo rest heisst mit em wert -1;\n",
    "definier e variable wo priimZahlGfunde heisst mit em wert wohr;\n",
    "\n",
    "solang de teiler kliiner oder gliich isch wie primzahlWurzel mach {\n",
    "    falls de (priimZahl rest teiler) isch gliich wie 0 mach {\n",
    "        priimZahlGfunde isch falsch;\n",
    "        stop;\n",
    "    };\n",
    "    teiler isch teiler plus 1;\n",
    "}\n",
    "\n",
    "falls d priimZahlGfunde mach {\n",
    "    gib us \"S isch e priim zahl\";\n",
    "} suscht {\n",
    "    gib us \"S isch kei priim zahl\";\n",
    "};\n",
    "```"
   ]
  },
  {
   "cell_type": "markdown",
   "metadata": {},
   "source": [
    "## Rust installieren\n",
    "\n",
    "Am einfachsten wird Rust direkt mit dem Bash-Skript von der [Rust-Seite](https://rustup.rs) installiert:\n",
    "\n",
    "```\n",
    "curl --proto '=https' --tlsv1.2 -sSf https://sh.rustup.rs | sh\n",
    "```\n",
    "\n",
    "Der Installer sollte durch die Installation führen, wobei die defaults alle in Ordnung sein sollten. \n",
    "\n",
    "Sollte Rust schon installiert sein, bietet es sich an, Rust mit folgendem Befehl upzudaten:\n",
    "\n",
    "```bash\n",
    " rustup update\n",
    "```\n",
    "\n",
    "## Jupyter installieren\n",
    "\n",
    "Um dieses Notebook zu benutzen, braucht es [Jupyter](https://jupyter.org/install).\n",
    "\n",
    "## Rust Jupyter Kernel installieren\n",
    "\n",
    "Abschliessend wird der Rust-Kernel für die Jupyter-Notebooks benötigt. Dieser kann vie cargo wie folgt installiert werden:\n",
    "\n",
    "```bash\n",
    "cargo install evcxr_jupyter \n",
    "```\n",
    "## Cargo\n",
    "\n",
    "Cargo ist das `all-in-one` Tool der Rust-Entwicklung. \n",
    "\n",
    "- `cargo new [--lib] <name>`: Erstellt ein neues Rust-Projekt mit Name \"name\"\n",
    "- `cargo build [--release]`: Buildet das Rust-Projekt im aktuellen Ordner (sucht nach einem Cargo.toml)\n",
    "- `cargo run -- [programm arguments]`: Lässt das Rust-Projekt kompillieren und startet es mit den entsprechenden Argumenten\n",
    "- `cargo add <dependency>`: Fügt eine Dependency zum Cargo.toml hinzu\n",
    "\n",
    "### Cargo.toml\n",
    "Das Cargo.toml beinhaltet wichtige Informationen zum Projekt, wie z.B. die Build-Products, Meta-Daten wie Author, Name usw. aber auch alle Abhängigkeiten. Es gibt viele verschiedene Mölgichkeiten Dependencies anzugeben, z.B. direkt vom lokalen File-System, von einem Git-Repository oder aber von [crates.io](https://crates.io).\n"
   ]
  },
  {
   "cell_type": "markdown",
   "metadata": {},
   "source": [
    "<!--\n",
    " Copyright (c) 2022 Ubique Innovation AG <https://www.ubique.ch>\n",
    " \n",
    " This Source Code Form is subject to the terms of the Mozilla Public\n",
    " License, v. 2.0. If a copy of the MPL was not distributed with this\n",
    " file, You can obtain one at http://mozilla.org/MPL/2.0/.\n",
    "-->\n",
    "\n",
    "## Abhängigkeiten\n",
    "\n",
    "Wir werden in diesem Tutorial [`pest`](https://pest.rs/) benutzen. `pest` bietet uns eine Möglichkeit, die Grammatik für unsere Sprache in einer externen Datei auszulagern, und dann bereits die einzelnen Tokens als Objekte zu erstellen.\n",
    "\n",
    "Um in Rust Abhängikeiten hinzuzufügen, müssen wir (normalerweise) mit `cargo add <name_der_dependency>` im Rust-Projektordner die Abhängigkeit hinzufügen. Natürlich kann dies auch manuell im `Cargo.toml` gemacht werden. \n",
    "\n",
    "Da wir hier aber Jupyter-Notebooks verwenden, müssen wir uns nicht direkt mit dem auseinandersetzen. Folgende zwei Abhängigkeiten werden wir in unserem Projekt benutzen entsprechend müssen wir die unserem Jupyter-Kernel hinzufügen.\n",
    "\n"
   ]
  },
  {
   "cell_type": "code",
   "execution_count": null,
   "metadata": {
    "vscode": {
     "languageId": "rust"
    }
   },
   "outputs": [],
   "source": [
    ":dep pest = \"*\"\n",
    ":dep pest_derive = \"*\""
   ]
  },
  {
   "cell_type": "markdown",
   "metadata": {},
   "source": [
    "## Code zum Notebook\n",
    "\n",
    "Der vollständige Code befindet sich unter `ubpp/src` und ist in drei Steps eingeteilt, die ungefähr der Einführungsreihenfolge im Notebook entsprechen. Falls ein Schritt nicht funktioniert, kann der Code kopiert werden. Er sollte allerdings nur als Hilfe dienen ;)."
   ]
  },
  {
   "cell_type": "markdown",
   "metadata": {},
   "source": [
    "## Boilerplate\n",
    "\n",
    "Um nun einen Einstieg für unsere kleine Script-Sprache zu bieten, lassen wir `pest` alle Implementierungen anhand unseres Grammar-Files ableiten (`#[derive]`).\n",
    "\n",
    "Mit dem `#[grammar]`-Attribut können wir den Pfad zu unserem Grammar-File angeben. In unserem Fall hier, geben wir den absoluten Pfad an, damit das Grammar-File gefunden wird, unabhängig von wo aus unser Rust-Programm kompiliert wird.\n",
    "\n",
    "Für das Notebook wird, anders als im Code-Beispiel, alles in einer Datei gemacht. Aufspalten zu verschiedenen Modulen etc. ist nicht relevant für dieses Projekt."
   ]
  },
  {
   "cell_type": "code",
   "execution_count": null,
   "metadata": {
    "vscode": {
     "languageId": "rust"
    }
   },
   "outputs": [],
   "source": [
    "use pest::Parser;\n",
    "use pest::iterators::Pairs;\n",
    "\n",
    "// Wird für den Jupyter-Kernel gebraucht, mit den neueren Rust-Versionen ist dies allerdings hinfällig.\n",
    "extern crate pest;\n",
    "#[macro_use]\n",
    "extern crate pest_derive;\n",
    "\n",
    "\n",
    "#[derive(Parser)]\n",
    "#[grammar = \"/Users/patrickamrein/Documents/Ubique/git/introduction-to-rust/ubpp.pest\"]\n",
    "pub struct UBPP;"
   ]
  },
  {
   "cell_type": "markdown",
   "metadata": {},
   "source": [
    "## Erste Schritte\n",
    "\n",
    "Da wir nun erstmals die Grammatik unserer Sprache geladen haben, können wir nun schauen, wie unser Code-Beispiel von Oben aussieht. Wir bekommen von  `pest` ein geparsedes File, das schon \"Tokenized\" ist, und nur  drauf wartet von uns umgewandelt zu werden.\n",
    "\n",
    "Wir sehen unten ein Beispiel von einem `Multiline-Raw-String-Literal`, das es uns erlaubt, einen String über mehrere Zeilen zu schreiben, aber auch Anführungszeichen ohne escaping zu benutzen. Strings in Rust kann man grundsätzlich immer über mehrere Zeilen schreiben.\n",
    "\n",
    "Danke dem \"derive\" Attribut auf unserer Klasse (struct UBPP), wurde vom Rust-Compiler anhand des `Pest-Files` bereits eine Menge von Implementierungen erstellt. Wird können nun diese \"statische\" Funktion auf der Struct mit folgendem Syntax aufrufen:\n",
    "```rust\n",
    "UBPP::parse(Rule::file, primzahl_tester).unwrap();\n",
    "```\n",
    "\n",
    "Beachte, dass solche assoziierte Funktionen auch auf Instanzen aufgerufen werden können. Wir werden später sehen, wie wir Funktionen einer Klasse hinzufügen können. Als erstes soll hier angemerkt werden, dass folgender Syntax equivalent ist:"
   ]
  },
  {
   "cell_type": "code",
   "execution_count": null,
   "metadata": {
    "vscode": {
     "languageId": "rust"
    }
   },
   "outputs": [],
   "source": [
    "struct Test {}\n",
    "impl Test {\n",
    "    fn test_function(&self) {\n",
    "        println!(\"test\");\n",
    "    }\n",
    "}\n",
    "\n",
    "let test_instance = Test{};\n",
    "Test::test_function(&test_instance);\n",
    "test_instance.test_function();"
   ]
  },
  {
   "cell_type": "code",
   "execution_count": null,
   "metadata": {
    "vscode": {
     "languageId": "rust"
    }
   },
   "outputs": [],
   "source": [
    "let primzahl_tester = r#\"\n",
    "definier e variable wo priimZahl heisst mit em wert e frog \"Was füre Zahl wotsch teste?\";\n",
    "\"#;\n",
    "let parse_result = UBPP::parse(Rule::file, primzahl_tester).unwrap();"
   ]
  },
  {
   "cell_type": "markdown",
   "metadata": {},
   "source": [
    "Wir sehen hier, das \"unwrap\", das benutzt wird. Die `parse` Funktion liefert uns nämlich ein `Result`-Objekt zurück, auf welchem wir keine weiteren Opperation des eigentlichen Typen ausführen können. Um an das innere Objekt zu kommen, müssten wir ein Error-Handling einbauen (sehen wir später), oder wir wählen wie hier den einfachen (und während der Entwicklung durchaus legtimen) Weg fes force-unwrap.\n",
    "\n",
    "Doch wie können wir jetzt sehen, was geparsed wurde? Rust kennt zwei verschiedene \"Anzeige\" Arten. Beide der Anzeige-Arten werden als \"Traits\" implementiert (ähnlich wie Interfaces resp. Protocols oder wie sie sonst heissen), und können für jeden Typen implementiert werden.\n",
    "\n",
    "Zum einen wäre das Trait `Display`, welches am Ende eine `to_string` Funktion zur Verfügung stellt. Dies kann benutzt werden um eine Standard-Darstellung eines Typens zu definieren. \n",
    "\n",
    "Die zweite Möglichkeit ist  `Debug` und ermöglicht eine erweiterte Darstellung eines Typen für Debugging-Zwecke. Das `Debug`-Trait kann ebenfalls für jeden Typen \"derived\" werden, was dazuführt, dass jedes Feld mit Name und Wert angezeigt wird.\n",
    "\n",
    "Wir vergleichen nun mal die zwei Arten mit dem Parse-Result.\n",
    "\n",
    "Für die Ausgabe verwenden wir das `println`-Macro, welches uns \"Compile-Time-Format-Strings\" gibt. zwei geschweifte Klammern werden benutzt um die `to_string` Funktion eines Typs zu benutzen. Mit \":?\" innerhalb der Klammern können wir Rust auffordern, die Debug-Implementierung aufzurufen. Wenn man zusätzlich noch einen \"#\" vor das Fragezeichen setzt, vordert man einen `pretty-debug-print`.\n",
    "\n",
    "Es gibt noch weitere Format-String modifiers, auf welche wir hier jetzt nicht weiter eingehen."
   ]
  },
  {
   "cell_type": "code",
   "execution_count": null,
   "metadata": {
    "vscode": {
     "languageId": "rust"
    }
   },
   "outputs": [],
   "source": [
    "println!(\"{:?}\", parse_result);\n",
    "// println!(\"{:#?}\", parse_result);\n",
    "// println!(\"{}\", parse_result);"
   ]
  },
  {
   "cell_type": "markdown",
   "metadata": {},
   "source": [
    "## Das AST-Model (Step1)\n",
    "\n",
    "Jetzt wo wir eine von `pest` geparsed Struktur haben, wollen wir unsere eigene Struktur aufbauen, die anschliessend relativ einfach ausgeführt werden kann (Step2). Wir nennen diese Struktur AST (Abstract Syntax Tree) und sie representiert unser Program im Speicher.\n",
    "\n",
    "Wir werden nun versuchen, nach und nach die verschiedenen Klassen (Structs) und Enums aufzubauen. Wir fangen mit dem tiefsten Element an (Atomics) und bauen immer komplexere Strukturen, die aus diesen Bauteilen zusammengesetzt sind.\n",
    "\n",
    "> Wir werden jetzt verschiedene Enums/Structs und so weiter einfügen. Da wir mit selbstreferenzierten Typen arbeiten musst du mit Code ausführen warten, bis wir alle Teile beisamen haben.\n",
    "## Expressions\n",
    "### Atomics\n",
    "\n",
    "In unserer Sprache wird es fünf verschiedene \"Atomic\"-Datatypes geben. Wir werden mit alle Zahlen-Typen als \"double\" (64bit Floating-Point) darstellen, was das ganze Handling vereinfacht, und für unseren Use-Case ausreichend ist. Wir nennen diesen Datentypen `Number`. Weiter wird es einen `String`, einen `Bool`, einen `Null` und einen `Interrupt` Atomic geben.\n",
    "\n",
    "Der `Interrupt` wird ein Atomic sein, um ein frühzeiteges Ende einer While-Schlaufe erkennen zu können (und ist etwas ein Hack, aber who cares, wir sind ja die Language-Architects).\n",
    "\n",
    "Wir werden viele der Typen als Rust-Enums handeln. Der Rust-Enum Typ ist mehr als eine blosse Enumeration, sondern kann auch komplexe Objekte halten.\n",
    "\n",
    "Doch vorerst wollen wir kurz auf die verschiedenen Grund-Datentypen von Rust eingehen:\n",
    "\n",
    "- `u8/u16/u32/u64 | i8/i16/i32/i64`: Dies sind die Integer Datentypen in Rust. Der Buchstabe gibt jeweils an, ob der Typ \"*u*nsigned\" ist oder signed. Die Zahl gibt die jeweilige Bit-Breite an, also für ein Byte zum Beispiel \"u/i8\". Je nach Platform wird bis `i/u128` unterstützt.\n",
    "\n",
    "- `f32/f64`: Sind die Fliesskommadatentypen. Die Zahl stellt wiederum die Bitbreite an, also f32 für single Precision und f64 für double precision.\n",
    "\n",
    "- `bool`: Der übliche Boolean-Datentyp.\n",
    "\n",
    "- `String`: Ist ein Heap allozierter veränderbarer String-Typ. Strings in Rust _müssen_ immer gültiges UTF-8 sein.\n",
    "\n",
    "- `&str`: Ist ein \"geliehener\" String, respektive \"String-Slice\". Wir wollen hier vorerst nicht genauer auf Borrows resp. den Unterschied von `String` und `&str` eingehen.\n",
    "\n",
    "Wir haben hier bewusst auf komplexere Typen wie Arrays, Maps, Synchronisations-Typen und ähnliches verzichtet. Im verlaufe des Tutorials werden wir uns noch mit Arrays und Maps auseinandersetzen.\n",
    "\n",
    "Es gibt drei verschiedene Typen von Enum-Variants:\n",
    "\n",
    "- Unit-Type: Der Unit-Type ist sehr ähnlich zum klassischen C enum Typ. Er stellt einfach eine \"Zahl\" oder Enumeration dar\n",
    "\n",
    "- Tuple-Type: Der Tuple-Type ist, anders als der Unit-Typ, fähig ein oder mehrere Objekte zu halten. Diese werden einfach als Tuple übergeben, und haben an sich keinen Namen, sondern bloss eine festgelegte Reihenfolge\n",
    "\n",
    "- Struct-Type: Struct-Type hält eine Struct (also eine Rust-Klasse) und hat benannte Felder.\n",
    "\n",
    "\n",
    "Folgend sehen wir das Gerüst für unseren Atomic-Datatype. Es fehlt allerdings noch der Boolean Typ. Füge ihn hinzu."
   ]
  },
  {
   "cell_type": "code",
   "execution_count": null,
   "metadata": {
    "vscode": {
     "languageId": "rust"
    }
   },
   "outputs": [],
   "source": [
    "#[derive(Debug, Clone)]\n",
    "pub enum Atomic {\n",
    "    String(String),\n",
    "    Number(f64),\n",
    "    /* Füge hier noch einen weiteren Typen, nämlich den Boolean Typ ein */\n",
    "    Null,\n",
    "    Interrupt\n",
    "}"
   ]
  },
  {
   "cell_type": "markdown",
   "metadata": {},
   "source": [
    "\n",
    "> Wir sehen das Attribut `#[derive(Debug, Clone)]` über dem Enum. Was bedeutet das? Wir sehen hier das \"derive\" Attribut. Dieses Attribut dient dazu, default Implementierungen für bestimmte Typen zur Verfügung zu stellen. Dieses Derive Macro ist ein sogenanntes \"Procedural Macro\" und erlaubt es Rust-Code während dem resp. vor dem Kompilieren auszuführen. In unserem Falle werden Implementierungen für den Debug-Output und für die \"Deep-Copy\" erstellt.\n"
   ]
  },
  {
   "cell_type": "code",
   "execution_count": null,
   "metadata": {
    "vscode": {
     "languageId": "rust"
    }
   },
   "outputs": [],
   "source": [
    "/// Unser DatenType für die beiden logischen Operatoren && und ||\n",
    "#[derive(Debug, Clone)]\n",
    "pub enum LogicOp {\n",
    "    And(Expression, Expression),\n",
    "    Or(Expression, Expression),\n",
    "}\n",
    "\n",
    "/// Unser DatenTyp für Vergleiche < > <= >= == und !=\n",
    "#[derive(Debug, Clone)]\n",
    "pub enum Comparison {\n",
    "    Smaller(Expression, Expression),\n",
    "    SmallerEquals(Expression, Expression),\n",
    "    Equals(Expression, Expression),\n",
    "    Greater(Expression, Expression),\n",
    "    GreaterEquals(Expression, Expression),\n",
    "}"
   ]
  },
  {
   "cell_type": "markdown",
   "metadata": {},
   "source": [
    "### Binäre (numerische) Operationen\n",
    "\n",
    "Um die Grundoperationen darzustellen, verwenden wir einen Struct-Type-Enum. Wir werden dann den Unterschied im Pattern-Matching erkennen können, und was für Vor-/Nachteile es mit sich bringt.\n",
    "\n",
    "Auch hier fehlt unsere letzte Variant, die Pow-Variant. Füge sie hinzu."
   ]
  },
  {
   "cell_type": "code",
   "execution_count": null,
   "metadata": {
    "vscode": {
     "languageId": "rust"
    }
   },
   "outputs": [],
   "source": [
    "#[derive(Debug, Clone)]\n",
    "pub enum BinaryOp {\n",
    "    Plus { left: Expression, right: Expression },\n",
    "    Minus { left: Expression, right: Expression },\n",
    "    Mul { left: Expression, right: Expression },\n",
    "    Div { left: Expression, right: Expression },\n",
    "    Mod { left: Expression, right: Expression },\n",
    "    /* Füge hier den Pow-Variant ein */\n",
    "    None,\n",
    "}"
   ]
  },
  {
   "cell_type": "markdown",
   "metadata": {},
   "source": [
    "### Conditional Expression\n",
    "\n",
    "In unserer Sprache wird es eine If-Expression haben. Die If-Expression returned jeweils die letzte Expression als Wert, und braucht entsprechend zwingend einen Else-Branch.\n",
    "\n",
    "In unserem AST stellen wir diese If-Expression als Struct dar. Eine Struct in Rust ist ähnlich einer Klasse in anderen Sprachen. Sie wird mit dem Keyword `struct` definiert. Ähnlich wie in Kotlin werden anschliessend die Feldernamen und der entsprechende Typ aufgezählt. Eine Struct in Rust besitzt allerdings an sich keine Funktionen und entsprechend gibt es keine Möglichkeit Default-Values anzugeben (es gibt allerdings den \"Default\"-Trait, auf den wir hier aber nicht weiter eingehen).\n",
    "\n",
    "Eine Struct kann anschliessend mit dem Struct-Initializer-Syntax erstellt werden. Das kleine Beispiel-Listing kannst du ausführen und damit rumspielen."
   ]
  },
  {
   "cell_type": "code",
   "execution_count": 18,
   "metadata": {
    "vscode": {
     "languageId": "rust"
    }
   },
   "outputs": [
    {
     "name": "stdout",
     "output_type": "stream",
     "text": [
      "DiesIstEineStruct { sie_hält_einen_string: \"Dies ist ein string\", und_einen_integer: 3 }\n"
     ]
    }
   ],
   "source": [
    "#[derive(Debug)]\n",
    "struct DiesIstEineStruct {\n",
    "    sie_hält_einen_string: String,\n",
    "    und_einen_integer: u32\n",
    "}\n",
    "\n",
    "// erstellen kann man sie nun wie folgt:\n",
    "\n",
    "println!(\"{:?}\", \n",
    "    DiesIstEineStruct {\n",
    "        sie_hält_einen_string: \"Dies ist ein string\".into(),\n",
    "        und_einen_integer: 3\n",
    "    });\n"
   ]
  },
  {
   "cell_type": "code",
   "execution_count": 2,
   "metadata": {
    "vscode": {
     "languageId": "rust"
    }
   },
   "outputs": [
    {
     "ename": "Error",
     "evalue": "cannot find type `Expression` in this scope",
     "output_type": "error",
     "traceback": [
      "    pub condition: Box<Expression>,",
      "                       ^^^^^^^^^^ not found in this scope",
      "cannot find type `Expression` in this scope",
      "help: you might be missing a type parameter\n\n<Expression>"
     ]
    },
    {
     "ename": "Error",
     "evalue": "cannot find type `Token` in this scope",
     "output_type": "error",
     "traceback": [
      "    pub body: Vec<Token>,",
      "                  ^^^^^ not found in this scope",
      "cannot find type `Token` in this scope",
      "help: you might be missing a type parameter\n\n<Token>"
     ]
    },
    {
     "ename": "Error",
     "evalue": "cannot find type `Expression` in this scope",
     "output_type": "error",
     "traceback": [
      "    pub body_expression: Box<Expression>,",
      "                             ^^^^^^^^^^ not found in this scope",
      "cannot find type `Expression` in this scope",
      "help: you might be missing a type parameter\n\n<Expression>"
     ]
    }
   ],
   "source": [
    "#[derive(Debug, Clone)]\n",
    "pub struct ConditionalExpression {\n",
    "    pub condition: Box<Expression>,\n",
    "    pub body: Vec<Token>,\n",
    "    pub body_expression: Box<Expression>,\n",
    "    /* Fügen jeweils else_body und else_body_expression wie für den true branch ein */\n",
    "}"
   ]
  },
  {
   "cell_type": "markdown",
   "metadata": {},
   "source": [
    "### Heap und Stack\n",
    "\n",
    "In Rust wird versucht möglichst viel auf dem Stack zu stellen. Wer sich mit Memory-Layout etwas auskennt, wird wissen, dass, um ein Objekt auf dem Stack zu plazieren, die grösse während dem Kompilieren bekannt sein muss. Für die meisten \"Grund-Datentypen\" ist dies erfüllt. Wir bekommen allerdings ein Problem, sobald wir eine Struktur haben, die sich selbst wieder Referenziert. \n",
    "\n",
    "Da wir mit nested Expressions arbeiten werden, z.B. `(3+2+3) * (4+4+6)`, was eine Expression ist die aus zwei (resp. mehr) SubExpressions besteht, führt dies unweigerlich zum Problem, dass die Grösse des Datentyps prinzipiel nicht beschränkt ist. Wir können also im Voraus nicht wissen, wieviele dieser Sub-Expressions auf den Stack müssen, und darum können wir den benötigten Speicher nicht bereitstellen.\n",
    "\n",
    "Einen Ausweg gibt es, sobald wir Heap-Allozierte Daten-Typen haben. Dies sind meist dynamisch wachsende Typen, wie z.B. Arrays, Maps, Strings (oder eben selbstreferenzierende Strukturen). Bei einem Heap-Alloziertem Typen müssen wir nicht mehr die Struktur auf dem Stack speichern, sondern nur noch eine Referenz auf den entsprechenden Bereich im Heap. Dies löst unser Probelm, mit dem Nachteil, dass wir an \"Geschwindigkeit\" verlieren, da Zugriffe auf den Heap teurer sind als solche, die nur auf den Stack verweisen.\n",
    "### Box\n",
    "Im Beispiel oben verwenden wir den Datentyp `Box<T>`, der einen generischen Typen darstellt, welcher den Datentypen `T` auf dem Heap alloziert, und als Pointer interpretiert wird. Allozierung und Deallozierung werden automatisch von Rust gehandelt, so dass der Speicher freigegeben wird, sobald die `Box<T>` aus dem Scope verschwindet.\n",
    "\n",
    "Vergleiche nachfolgend die Speichergrösse für einen Boxed Typ und den Typen auf dem Stack. Wir sehen dass der Typ `SizeOfStruct` nur einen Integer hält (4 Bytes) und entsprechend auch nur 4 Bytes gross ist. Der Boxed Type ist abhängig von der zugrundeliegenden Plattform, heutzutage in der Regel 64bits sprich 8 Bytes."
   ]
  },
  {
   "cell_type": "code",
   "execution_count": 21,
   "metadata": {
    "vscode": {
     "languageId": "rust"
    }
   },
   "outputs": [
    {
     "name": "stdout",
     "output_type": "stream",
     "text": [
      "4\n",
      "8\n"
     ]
    },
    {
     "data": {
      "text/plain": [
       "()"
      ]
     },
     "execution_count": 21,
     "metadata": {},
     "output_type": "execute_result"
    }
   ],
   "source": [
    "struct SizeOfStruct {\n",
    "    test: u32\n",
    "}\n",
    "println!(\"{}\",std::mem::size_of::<SizeOfStruct>());\n",
    "println!(\"{}\", std::mem::size_of::<Box<SizeOfStruct>>())"
   ]
  },
  {
   "cell_type": "markdown",
   "metadata": {},
   "source": [
    "### Arrays (Vec)\n",
    "\n",
    "Ein weiterer wichtiger Datentyp stellen Arrays dar. Die einfachste Art einen Array in Rust abzubilden ist mit dem `Vec<T>` Datentyp. Dieser ist wiederum generisch zum Typen T. Wie bereits erwähnt wird ein Vec stets auf dem Heap alloziert. Da der Vector nur einem Typen `T` zu geordnet werden kann, muss in bestimmten Fällen der Typ explizit mit angegeben werden. Dies ist i.d.R. der Fall, wenn der Type-Inferer es nicht schafft, einen eindeutigen Typen zu finden. Meist passiert dies mit den `collect` Funktionen, welche auf Iterators definiert sind.\n",
    "\n",
    "In solchen Fällen kann entweder der Typ direkt bei der Variablen-Deklaration angegeben werden, oder aber mit dem sogenannten Turbo-Fish.\n",
    "\n",
    "Beachte nun zum Beispiel die zwei Vektoren, und anschliessend, der Gebrauch des Turbo-Fischs bei der `parse`-Funktion."
   ]
  },
  {
   "cell_type": "code",
   "execution_count": 25,
   "metadata": {
    "vscode": {
     "languageId": "rust"
    }
   },
   "outputs": [
    {
     "name": "stdout",
     "output_type": "stream",
     "text": [
      "[]\n",
      "[0, 0, 0]\n",
      "3.2\n"
     ]
    }
   ],
   "source": [
    "let array : Vec<u32> = vec![];\n",
    "let some_elements = vec![0;3];\n",
    "\n",
    "println!(\"{:?}\", array);\n",
    "println!(\"{:?}\", some_elements);\n",
    "println!(\"{}\", \"3.2\".parse::<f32>().unwrap());"
   ]
  },
  {
   "cell_type": "markdown",
   "metadata": {},
   "source": [
    "### Options\n",
    "\n",
    "In Rust sind alle Typen immer initialisiert (sprich niemals Null). Es gibt aber Situationen, in denen ein Wert vorhanden, oder eben nicht vorhanden sein kann oder muss.\n",
    "\n",
    "Falls das ein Resultat einer Operation ist, kann man z.B. den `Result<T>` Datentypen verwenden, den wir später noch kennenlernen werden. Für Structs oder Enums empfiehlt sich der `Option<T>` Datentyp, der im Wesentlichen folgendes Enum darstellt (natürlich noch erweitert mit vielen hilfreichen Funktionen aus der Standardbibliothek)."
   ]
  },
  {
   "cell_type": "code",
   "execution_count": 6,
   "metadata": {
    "vscode": {
     "languageId": "rust"
    }
   },
   "outputs": [
    {
     "name": "stdout",
     "output_type": "stream",
     "text": [
      "Some(0)\n",
      "None\n"
     ]
    }
   ],
   "source": [
    "#[derive(Debug)]\n",
    "enum CustomOption<T> {\n",
    "    Some(T),\n",
    "    None\n",
    "}\n",
    "\n",
    "println!(\"{:?}\", CustomOption::Some(0u32));\n",
    "println!(\"{:?}\", CustomOption::<u32>::None);\n"
   ]
  },
  {
   "cell_type": "markdown",
   "metadata": {},
   "source": [
    "Unser erster Schritt, das Definieren des ASTs, ist nun abgeschlossen und im folgenden sind die oben erwähnten Strukturen ergänzt mit den Statement Strukturen.\n",
    "\n",
    "Gehe nochmals durch den Code, und führe ihn anschliessend aus."
   ]
  },
  {
   "cell_type": "code",
   "execution_count": 7,
   "metadata": {
    "vscode": {
     "languageId": "rust"
    }
   },
   "outputs": [],
   "source": [
    "#[derive(Debug, Clone)]\n",
    "pub enum Atomic {\n",
    "    String(String),\n",
    "    Number(f64),\n",
    "    Bool(bool),\n",
    "    Null,\n",
    "    Interrupt\n",
    "}\n",
    "\n",
    "#[derive(Debug, Clone)]\n",
    "pub enum LogicOp {\n",
    "    And(Expression, Expression),\n",
    "    Or(Expression, Expression),\n",
    "}\n",
    "\n",
    "\n",
    "#[derive(Debug, Clone)]\n",
    "pub enum Comparison {\n",
    "    Smaller(Expression, Expression),\n",
    "    SmallerEquals(Expression, Expression),\n",
    "    Equals(Expression, Expression),\n",
    "    Greater(Expression, Expression),\n",
    "    GreaterEquals(Expression, Expression),\n",
    "}\n",
    "\n",
    "#[derive(Debug, Clone)]\n",
    "pub enum BinaryOp {\n",
    "    Plus { left: Expression, right: Expression },\n",
    "    Minus { left: Expression, right: Expression },\n",
    "    Mul { left: Expression, right: Expression },\n",
    "    Div { left: Expression, right: Expression },\n",
    "    Mod { left: Expression, right: Expression },\n",
    "    Pow { left: Expression, right: Expression },\n",
    "    None,\n",
    "}\n",
    "\n",
    "/// Expressions\n",
    "#[derive(Debug, Clone)]\n",
    "pub struct ConditionalExpression {\n",
    "    pub condition: Box<Expression>,\n",
    "    pub body: Vec<Token>,\n",
    "    pub body_expression: Box<Expression>,\n",
    "    pub else_body: Vec<Token>,\n",
    "    pub else_body_expression: Box<Expression>,\n",
    "}\n",
    "\n",
    "\n",
    "#[derive(Debug, Clone)]\n",
    "pub enum Cast {\n",
    "    String(Expression),\n",
    "    Int(Expression),\n",
    "    Bool(Expression),\n",
    "}\n",
    "\n",
    "#[derive(Debug, Clone)]\n",
    "pub enum Expression {\n",
    "    Atomic(Atomic),\n",
    "    Ident(String),\n",
    "    LogicOp(Box<LogicOp>),\n",
    "    Comparison(Box<Comparison>),\n",
    "    BinaryOp(Box<BinaryOp>),\n",
    "    Conditional(ConditionalExpression),\n",
    "    Input(Box<Expression>),\n",
    "    Cast(Box<Cast>),\n",
    "}\n",
    "\n",
    "#[derive(Debug, Clone)]\n",
    "pub enum Statement {\n",
    "    VariableAssignment(VariableAssignment),\n",
    "    Conditional(Conditional),\n",
    "    Expression(Expression),\n",
    "    Print(Expression),\n",
    "    Loop(Loop)\n",
    "}\n",
    "\n",
    "#[derive(Debug, Clone)]\n",
    "pub struct Loop {\n",
    "    pub condition: Box<Expression>,\n",
    "    pub body: Vec<Token>,\n",
    "}\n",
    "\n",
    "#[derive(Debug, Clone)]\n",
    "pub struct Conditional {\n",
    "    pub condition: Box<Expression>,\n",
    "    pub body: Vec<Token>,\n",
    "    pub else_body: Option<Vec<Token>>,\n",
    "}\n",
    "\n",
    "#[derive(Debug, Clone)]\n",
    "pub struct VariableAssignment {\n",
    "    pub new_definition: bool,\n",
    "    pub ident: String,\n",
    "    pub value: Expression,\n",
    "}\n",
    "\n",
    "#[derive(Debug, Clone)]\n",
    "/// Unsere Sprache besteht aus verschiedenen Tokens\n",
    "pub enum Token {\n",
    "    /// Eine Expression ist ein Token, das einen Wert darstellt. Enstprechend kann eine Expression z.B. einer Variable \n",
    "    /// hinzugefügt werden.\n",
    "    Expression(Expression),\n",
    "    /// Ein Statement führt Code aus, stellt aber keinen Wert dar und kann somit nur alleine stehen\n",
    "    Statement(Statement),\n",
    "    /// Vorzeitiges Ende aus einer While-Loop\n",
    "    Break,\n",
    "    /// Placeholder für potenzielles early return\n",
    "    Return\n",
    "}"
   ]
  },
  {
   "cell_type": "markdown",
   "metadata": {},
   "source": [
    "## AST Erstellen (Step 2)"
   ]
  }
 ],
 "metadata": {
  "kernelspec": {
   "display_name": "Rust",
   "language": "rust",
   "name": "rust"
  },
  "language_info": {
   "codemirror_mode": "rust",
   "file_extension": ".rs",
   "mimetype": "text/rust",
   "name": "Rust",
   "pygment_lexer": "rust",
   "version": ""
  },
  "orig_nbformat": 4
 },
 "nbformat": 4,
 "nbformat_minor": 2
}
