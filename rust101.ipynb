{
 "cells": [
  {
   "cell_type": "markdown",
   "metadata": {},
   "source": [
    "# Rust 101\n",
    "\n",
    "## Ziel\n",
    "Das Ziel des Tutorials ist es, eine Einführung in Rust zu bekommen, und am Ende einen Compiler und Interpreter von UB++ zu haben. Das ganze Projekt wird am Ende als Github-Repository zur Verfügung gestellt. Hier werden wir Schritt für Schritt versuchen, uns an das Endprodukt anzutasten, und jeweils einzelne wichtige Aspekte von Rust kennen lernen.\n",
    "\n",
    "## UB++\n",
    "\n",
    "Wie wir alle wissen, machen wir Geilen Scheiss (TM). Es ist aber viel geilerer Scheiss, wenn der Scheiss auch so geschrieben wird, wie der Schnabel wächst. Entsprechend kann jeder in diesem Tutorial, die Keywords seinem Schnabel nach anpassen.\n",
    "\n",
    "UB++ ist eine einfache (interpretierte) Sprache, angelehnt an Java, die simple Logik und Berechnungen erlaubt.\n",
    "\n",
    "```\n",
    "definier e variable wo priimZahl heisst mit em wert e frog \"Was füre Zahl wotsch teste?\";\n",
    "definier e variable wo teiler heisst mit em wert 2;\n",
    "definier e variable wo primzahlWurzel heisst mit em wert priimZahl hoch 0.5;\n",
    "definier e variable wo rest heisst mit em wert -1;\n",
    "definier e variable wo priimZahlGfunde heisst mit em wert wohr;\n",
    "\n",
    "solang de teiler kliiner oder gliich isch wie primzahlWurzel mach {\n",
    "    falls de (priimZahl rest teiler) isch gliich wie 0 mach {\n",
    "        priimZahlGfunde isch falsch;\n",
    "        stop;\n",
    "    };\n",
    "    teiler isch teiler plus 1;\n",
    "}\n",
    "\n",
    "falls d priimZahlGfunde mach {\n",
    "    gib us \"S isch e priim zahl\";\n",
    "} suscht {\n",
    "    gib us \"S isch kei priim zahl\";\n",
    "};\n",
    "```"
   ]
  },
  {
   "cell_type": "markdown",
   "metadata": {},
   "source": [
    "## Rust installieren\n",
    "\n",
    "Am einfachsten wird Rust direkt mit dem Bash-Skript von der [Rust-Seite](https://rustup.rs) installiert:\n",
    "\n",
    "```\n",
    "curl --proto '=https' --tlsv1.2 -sSf https://sh.rustup.rs | sh\n",
    "```\n",
    "\n",
    "Der Installer sollte durch die Installation führen, wobei die defaults alle in Ordnung sein sollten. \n",
    "\n",
    "Sollte Rust schon installiert sein, bietet es sich an, Rust mit folgendem Befehl upzudaten:\n",
    "\n",
    "```bash\n",
    " rustup update\n",
    "```\n",
    "\n",
    "## Jupyter installieren\n",
    "\n",
    "Um dieses Notebook zu benutzen, braucht es [Jupyter](https://jupyter.org/install).\n",
    "\n",
    "## Rust Jupyter Kernel installieren\n",
    "\n",
    "Abschliessend wird der Rust-Kernel für die Jupyter-Notebooks benötigt. Dieser kann vie cargo wie folgt installiert werden:\n",
    "\n",
    "```bash\n",
    "cargo install evcxr_jupyter \n",
    "```\n",
    "## Cargo\n",
    "\n",
    "Cargo ist das `all-in-one` Tool der Rust-Entwicklung. \n",
    "\n",
    "- `cargo new [--lib] <name>`: Erstellt ein neues Rust-Projekt mit Name \"name\"\n",
    "- `cargo build [--release]`: Buildet das Rust-Projekt im aktuellen Ordner (sucht nach einem Cargo.toml)\n",
    "- `cargo run -- [programm arguments]`: Lässt das Rust-Projekt kompillieren und startet es mit den entsprechenden Argumenten\n",
    "- `cargo add <dependency>`: Fügt eine Dependency zum Cargo.toml hinzu\n",
    "\n",
    "### Cargo.toml\n",
    "Das Cargo.toml beinhaltet wichtige Informationen zum Projekt, wie z.B. die Build-Products, Meta-Daten wie Author, Name usw. aber auch alle Abhängigkeiten. Es gibt viele verschiedene Mölgichkeiten Dependencies anzugeben, z.B. direkt vom lokalen File-System, von einem Git-Repository oder aber von [crates.io](https://crates.io).\n"
   ]
  },
  {
   "cell_type": "markdown",
   "metadata": {},
   "source": [
    "<!--\n",
    " Copyright (c) 2022 Ubique Innovation AG <https://www.ubique.ch>\n",
    " \n",
    " This Source Code Form is subject to the terms of the Mozilla Public\n",
    " License, v. 2.0. If a copy of the MPL was not distributed with this\n",
    " file, You can obtain one at http://mozilla.org/MPL/2.0/.\n",
    "-->\n",
    "\n",
    "## Abhängigkeiten\n",
    "\n",
    "Wir werden in diesem Tutorial [`pest`](https://pest.rs/) benutzen. `pest` bietet uns eine Möglichkeit, die Grammatik für unsere Sprache in einer externen Datei auszulagern, und dann bereits die einzelnen Tokens als Objekte zu erstellen.\n",
    "\n",
    "Um in Rust Abhängikeiten hinzuzufügen, müssen wir (normalerweise) mit `cargo add <name_der_dependency>` im Rust-Projektordner die Abhängigkeit hinzufügen. Natürlich kann dies auch manuell im `Cargo.toml` gemacht werden. \n",
    "\n",
    "Da wir hier aber Jupyter-Notebooks verwenden, müssen wir uns nicht direkt mit dem auseinandersetzen. Folgende zwei Abhängigkeiten werden wir in unserem Projekt benutzen entsprechend müssen wir die unserem Jupyter-Kernel hinzufügen.\n",
    "\n"
   ]
  },
  {
   "cell_type": "code",
   "execution_count": 24,
   "metadata": {
    "vscode": {
     "languageId": "rust"
    }
   },
   "outputs": [],
   "source": [
    ":dep pest = \"*\"\n",
    ":dep pest_derive = \"*\""
   ]
  },
  {
   "cell_type": "markdown",
   "metadata": {},
   "source": [
    "## Code zum Notebook\n",
    "\n",
    "Der vollständige Code befindet sich unter `ubpp/src` und ist in drei Steps eingeteilt, die ungefähr der Einführungsreihenfolge im Notebook entsprechen. Falls ein Schritt nicht funktioniert, kann der Code kopiert werden. Er sollte allerdings nur als Hilfe dienen ;)."
   ]
  },
  {
   "cell_type": "markdown",
   "metadata": {},
   "source": [
    "## Boilerplate\n",
    "\n",
    "Um nun einen Einstieg für unsere kleine Script-Sprache zu bieten, lassen wir `pest` alle Implementierungen anhand unseres Grammar-Files ableiten (`#[derive]`).\n",
    "\n",
    "Mit dem `#[grammar]`-Attribut können wir den Pfad zu unserem Grammar-File angeben. In unserem Fall hier, geben wir den absoluten Pfad an, damit das Grammar-File gefunden wird, unabhängig von wo aus unser Rust-Programm kompiliert wird.\n",
    "\n",
    "Für das Notebook wird, anders als im Code-Beispiel, alles in einer Datei gemacht. Aufspalten zu verschiedenen Modulen etc. ist nicht relevant für dieses Projekt."
   ]
  },
  {
   "cell_type": "code",
   "execution_count": 25,
   "metadata": {
    "vscode": {
     "languageId": "rust"
    }
   },
   "outputs": [],
   "source": [
    "use pest::Parser;\n",
    "use pest::iterators::Pairs;\n",
    "\n",
    "// Wird für den Jupyter-Kernel gebraucht, mit den neueren Rust-Versionen ist dies allerdings hinfällig.\n",
    "extern crate pest;\n",
    "#[macro_use]\n",
    "extern crate pest_derive;\n",
    "\n",
    "\n",
    "#[derive(Parser)]\n",
    "#[grammar = \"/Users/patrickamrein/Documents/Ubique/git/introduction-to-rust/ubpp.pest\"]\n",
    "pub struct UBPP;"
   ]
  },
  {
   "cell_type": "markdown",
   "metadata": {},
   "source": [
    "## Erste Schritte\n",
    "\n",
    "Da wir nun erstmals die Grammatik unserer Sprache geladen haben, können wir nun schauen, wie unser Code-Beispiel von Oben aussieht. Wir bekommen von  `pest` ein geparsedes File, das schon \"Tokenized\" ist, und nur  drauf wartet von uns umgewandelt zu werden.\n",
    "\n",
    "Wir sehen unten ein Beispiel von einem `Multiline-Raw-String-Literal`, das es uns erlaubt, einen String über mehrere Zeilen zu schreiben, aber auch Anführungszeichen ohne escaping zu benutzen. Strings in Rust kann man grundsätzlich immer über mehrere Zeilen schreiben.\n",
    "\n",
    "Danke dem \"derive\" Attribut auf unserer Klasse (struct UBPP), wurde vom Rust-Compiler anhand des `Pest-Files` bereits eine Menge von Implementierungen erstellt. Wird können nun diese \"statische\" Funktion auf der Struct mit folgendem Syntax aufrufen:\n",
    "```rust\n",
    "UBPP::parse(Rule::file, primzahl_tester).unwrap();\n",
    "```\n",
    "\n",
    "Beachte, dass solche assoziierte Funktionen auch auf Instanzen aufgerufen werden können. Wir werden später sehen, wie wir Funktionen einer Klasse hinzufügen können. Als erstes soll hier angemerkt werden, dass folgender Syntax equivalent ist:"
   ]
  },
  {
   "cell_type": "code",
   "execution_count": null,
   "metadata": {
    "vscode": {
     "languageId": "rust"
    }
   },
   "outputs": [],
   "source": [
    "struct Test {}\n",
    "impl Test {\n",
    "    fn test_function(&self) {\n",
    "        println!(\"test\");\n",
    "    }\n",
    "}\n",
    "\n",
    "let test_instance = Test{};\n",
    "Test::test_function(&test_instance);\n",
    "test_instance.test_function();"
   ]
  },
  {
   "cell_type": "code",
   "execution_count": 29,
   "metadata": {
    "vscode": {
     "languageId": "rust"
    }
   },
   "outputs": [],
   "source": [
    "let primzahl_tester = r#\"\n",
    "definier e variable wo priimZahl heisst mit em wert e frog \"Was füre Zahl wotsch teste?\";\n",
    "\"#;\n",
    "let parse_result = UBPP::parse(Rule::file, primzahl_tester).unwrap();"
   ]
  },
  {
   "cell_type": "markdown",
   "metadata": {},
   "source": [
    "Wir sehen hier, das \"unwrap\", das benutzt wird. Die `parse` Funktion liefert uns nämlich ein `Result`-Objekt zurück, auf welchem wir keine weiteren Opperation des eigentlichen Typen ausführen können. Um an das innere Objekt zu kommen, müssten wir ein Error-Handling einbauen (sehen wir später), oder wir wählen wie hier den einfachen (und während der Entwicklung durchaus legtimen) Weg fes force-unwrap.\n",
    "\n",
    "Doch wie können wir jetzt sehen, was geparsed wurde? Rust kennt zwei verschiedene \"Anzeige\" Arten. Beide der Anzeige-Arten werden als \"Traits\" implementiert (ähnlich wie Interfaces resp. Protocols oder wie sie sonst heissen), und können für jeden Typen implementiert werden.\n",
    "\n",
    "Zum einen wäre das Trait `Display`, welches am Ende eine `to_string` Funktion zur Verfügung stellt. Dies kann benutzt werden um eine Standard-Darstellung eines Typens zu definieren. \n",
    "\n",
    "Die zweite Möglichkeit ist  `Debug` und ermöglicht eine erweiterte Darstellung eines Typen für Debugging-Zwecke. Das `Debug`-Trait kann ebenfalls für jeden Typen \"derived\" werden, was dazuführt, dass jedes Feld mit Name und Wert angezeigt wird.\n",
    "\n",
    "Wir vergleichen nun mal die zwei Arten mit dem Parse-Result.\n",
    "\n",
    "Für die Ausgabe verwenden wir das `println`-Macro, welches uns \"Compile-Time-Format-Strings\" gibt. zwei geschweifte Klammern werden benutzt um die `to_string` Funktion eines Typs zu benutzen. Mit \":?\" innerhalb der Klammern können wir Rust auffordern, die Debug-Implementierung aufzurufen. Wenn man zusätzlich noch einen \"#\" vor das Fragezeichen setzt, vordert man einen `pretty-debug-print`.\n",
    "\n",
    "Es gibt noch weitere Format-String modifiers, auf welche wir hier jetzt nicht weiter eingehen."
   ]
  },
  {
   "cell_type": "code",
   "execution_count": null,
   "metadata": {
    "vscode": {
     "languageId": "rust"
    }
   },
   "outputs": [],
   "source": [
    "println!(\"{:?}\", parse_result);\n",
    "// println!(\"{:#?}\", parse_result);\n",
    "// println!(\"{}\", parse_result);"
   ]
  },
  {
   "cell_type": "markdown",
   "metadata": {},
   "source": [
    "## Das AST-Model (Step1)\n",
    "\n",
    "Jetzt wo wir eine von `pest` geparsed Struktur haben, wollen wir unsere eigene Struktur aufbauen, die anschliessend relativ einfach ausgeführt werden kann (Step2). Wir nennen diese Struktur AST (Abstract Syntax Tree) und sie representiert unser Program im Speicher.\n",
    "\n",
    "Wir werden nun versuchen, nach und nach die verschiedenen Klassen (Structs) und Enums aufzubauen. Wir fangen mit dem tiefsten Element an (Atomics) und bauen immer komplexere Strukturen, die aus diesen Bauteilen zusammengesetzt sind.\n",
    "\n",
    "> Wir werden jetzt verschiedene Enums/Structs und so weiter einfügen. Da wir mit selbstreferenzierten Typen arbeiten musst du mit Code ausführen warten, bis wir alle Teile beisamen haben.\n",
    "\n",
    "\n",
    "## Expressions\n",
    "### Atomics\n",
    "\n",
    "In unserer Sprache wird es fünf verschiedene \"Atomic\"-Datatypes geben. Wir werden mit alle Zahlen-Typen als \"double\" (64bit Floating-Point) darstellen, was das ganze Handling vereinfacht, und für unseren Use-Case ausreichend ist. Wir nennen diesen Datentypen `Number`. Weiter wird es einen `String`, einen `Bool`, einen `Null` und einen `Interrupt` Atomic geben.\n",
    "\n",
    "Der `Interrupt` wird ein Atomic sein, um ein frühzeiteges Ende einer While-Schlaufe erkennen zu können (und ist etwas ein Hack, aber who cares, wir sind ja die Language-Architects).\n",
    "\n",
    "Wir werden viele der Typen als Rust-Enums handeln. Der Rust-Enum Typ ist mehr als eine blosse Enumeration, sondern kann auch komplexe Objekte halten.\n",
    "\n",
    "Doch vorerst wollen wir kurz auf die verschiedenen Grund-Datentypen von Rust eingehen:\n",
    "\n",
    "- `u8/u16/u32/u64 | i8/i16/i32/i64`: Dies sind die Integer Datentypen in Rust. Der Buchstabe gibt jeweils an, ob der Typ \"*u*nsigned\" ist oder signed. Die Zahl gibt die jeweilige Bit-Breite an, also für ein Byte zum Beispiel \"u/i8\". Je nach Platform wird bis `i/u128` unterstützt.\n",
    "\n",
    "- `f32/f64`: Sind die Fliesskommadatentypen. Die Zahl stellt wiederum die Bitbreite an, also f32 für single Precision und f64 für double precision.\n",
    "\n",
    "- `bool`: Der übliche Boolean-Datentyp.\n",
    "\n",
    "- `String`: Ist ein Heap allozierter veränderbarer String-Typ. Strings in Rust _müssen_ immer gültiges UTF-8 sein.\n",
    "\n",
    "- `&str`: Ist ein \"geliehener\" String, respektive \"String-Slice\". Wir wollen hier vorerst nicht genauer auf Borrows resp. den Unterschied von `String` und `&str` eingehen.\n",
    "\n",
    "Wir haben hier bewusst auf komplexere Typen wie Arrays, Maps, Synchronisations-Typen und ähnliches verzichtet. Im verlaufe des Tutorials werden wir uns noch mit Arrays und Maps auseinandersetzen.\n",
    "\n",
    "Es gibt drei verschiedene Typen von Enum-Variants:\n",
    "\n",
    "- Unit-Type: Der Unit-Type ist sehr ähnlich zum klassischen C enum Typ. Er stellt einfach eine \"Zahl\" oder Enumeration dar\n",
    "\n",
    "- Tuple-Type: Der Tuple-Type ist, anders als der Unit-Typ, fähig ein oder mehrere Objekte zu halten. Diese werden einfach als Tuple übergeben, und haben an sich keinen Namen, sondern bloss eine festgelegte Reihenfolge\n",
    "\n",
    "- Struct-Type: Struct-Type hält eine Struct (also eine Rust-Klasse) und hat benannte Felder.\n",
    "\n",
    "\n",
    "Folgend sehen wir das Gerüst für unseren Atomic-Datatype. Es fehlt allerdings noch der Boolean Typ. Füge ihn hinzu."
   ]
  },
  {
   "cell_type": "code",
   "execution_count": null,
   "metadata": {
    "vscode": {
     "languageId": "rust"
    }
   },
   "outputs": [],
   "source": [
    "#[derive(Debug, Clone)]\n",
    "pub enum Atomic {\n",
    "    String(String),\n",
    "    Number(f64),\n",
    "    /* Füge hier noch einen weiteren Typen, nämlich den Boolean Typ ein */\n",
    "    Null,\n",
    "    Interrupt\n",
    "}"
   ]
  },
  {
   "cell_type": "markdown",
   "metadata": {},
   "source": [
    "\n",
    "> Wir sehen das Attribut `#[derive(Debug, Clone)]` über dem Enum. Was bedeutet das? Wir sehen hier das \"derive\" Attribut. Dieses Attribut dient dazu, default Implementierungen für bestimmte Typen zur Verfügung zu stellen. Dieses Derive Macro ist ein sogenanntes \"Procedural Macro\" und erlaubt es Rust-Code während dem resp. vor dem Kompilieren auszuführen. In unserem Falle werden Implementierungen für den Debug-Output und für die \"Deep-Copy\" erstellt.\n"
   ]
  },
  {
   "cell_type": "code",
   "execution_count": null,
   "metadata": {
    "vscode": {
     "languageId": "rust"
    }
   },
   "outputs": [],
   "source": [
    "/// Unser DatenType für die beiden logischen Operatoren && und ||\n",
    "#[derive(Debug, Clone)]\n",
    "pub enum LogicOp {\n",
    "    And(Expression, Expression),\n",
    "    Or(Expression, Expression),\n",
    "}\n",
    "\n",
    "/// Unser DatenTyp für Vergleiche < > <= >= == und !=\n",
    "#[derive(Debug, Clone)]\n",
    "pub enum Comparison {\n",
    "    Smaller(Expression, Expression),\n",
    "    SmallerEquals(Expression, Expression),\n",
    "    Equals(Expression, Expression),\n",
    "    Greater(Expression, Expression),\n",
    "    GreaterEquals(Expression, Expression),\n",
    "}"
   ]
  },
  {
   "cell_type": "markdown",
   "metadata": {},
   "source": [
    "### Binäre (numerische) Operationen\n",
    "\n",
    "Um die Grundoperationen darzustellen, verwenden wir einen Struct-Type-Enum. Wir werden dann den Unterschied im Pattern-Matching erkennen können, und was für Vor-/Nachteile es mit sich bringt.\n",
    "\n",
    "Auch hier fehlt unsere letzte Variant, die Pow-Variant. Füge sie hinzu."
   ]
  },
  {
   "cell_type": "code",
   "execution_count": null,
   "metadata": {
    "vscode": {
     "languageId": "rust"
    }
   },
   "outputs": [],
   "source": [
    "#[derive(Debug, Clone)]\n",
    "pub enum BinaryOp {\n",
    "    Plus { left: Expression, right: Expression },\n",
    "    Minus { left: Expression, right: Expression },\n",
    "    Mul { left: Expression, right: Expression },\n",
    "    Div { left: Expression, right: Expression },\n",
    "    Mod { left: Expression, right: Expression },\n",
    "    /* Füge hier den Pow-Variant ein */\n",
    "    None,\n",
    "}"
   ]
  },
  {
   "cell_type": "markdown",
   "metadata": {},
   "source": [
    "### Conditional Expression\n",
    "\n",
    "In unserer Sprache wird es eine If-Expression haben. Die If-Expression returned jeweils die letzte Expression als Wert, und braucht entsprechend zwingend einen Else-Branch.\n",
    "\n",
    "In unserem AST stellen wir diese If-Expression als Struct dar. Eine Struct in Rust ist ähnlich einer Klasse in anderen Sprachen. Sie wird mit dem Keyword `struct` definiert. Ähnlich wie in Kotlin werden anschliessend die Feldernamen und der entsprechende Typ aufgezählt. Eine Struct in Rust besitzt allerdings an sich keine Funktionen und entsprechend gibt es keine Möglichkeit Default-Values anzugeben (es gibt allerdings den \"Default\"-Trait, auf den wir hier aber nicht weiter eingehen).\n",
    "\n",
    "Eine Struct kann anschliessend mit dem Struct-Initializer-Syntax erstellt werden. Das kleine Beispiel-Listing kannst du ausführen und damit rumspielen."
   ]
  },
  {
   "cell_type": "code",
   "execution_count": 12,
   "metadata": {
    "vscode": {
     "languageId": "rust"
    }
   },
   "outputs": [
    {
     "name": "stdout",
     "output_type": "stream",
     "text": [
      "DiesIstEineStruct { sie_hält_einen_string: \"Dies ist ein string\", und_einen_integer: 3 }\n"
     ]
    }
   ],
   "source": [
    "#[derive(Debug)]\n",
    "struct DiesIstEineStruct {\n",
    "    sie_hält_einen_string: String,\n",
    "    und_einen_integer: u32\n",
    "}\n",
    "\n",
    "// erstellen kann man sie nun wie folgt:\n",
    "\n",
    "println!(\"{:?}\", \n",
    "    DiesIstEineStruct {\n",
    "        sie_hält_einen_string: \"Dies ist ein string\".into(),\n",
    "        und_einen_integer: 3\n",
    "    });\n"
   ]
  },
  {
   "cell_type": "code",
   "execution_count": null,
   "metadata": {
    "vscode": {
     "languageId": "rust"
    }
   },
   "outputs": [],
   "source": [
    "#[derive(Debug, Clone)]\n",
    "pub struct ConditionalExpression {\n",
    "    pub condition: Box<Expression>,\n",
    "    pub body: Vec<Token>,\n",
    "    pub body_expression: Box<Expression>,\n",
    "    /* Fügen jeweils else_body und else_body_expression wie für den true branch ein */\n",
    "}"
   ]
  },
  {
   "cell_type": "markdown",
   "metadata": {},
   "source": [
    "### Heap und Stack\n",
    "\n",
    "In Rust wird versucht möglichst viel auf dem Stack zu stellen. Wer sich mit Memory-Layout etwas auskennt, wird wissen, dass, um ein Objekt auf dem Stack zu plazieren, die grösse während dem Kompilieren bekannt sein muss. Für die meisten \"Grund-Datentypen\" ist dies erfüllt. Wir bekommen allerdings ein Problem, sobald wir eine Struktur haben, die sich selbst wieder Referenziert. \n",
    "\n",
    "Da wir mit nested Expressions arbeiten werden, z.B. `(3+2+3) * (4+4+6)`, was eine Expression ist die aus zwei (resp. mehr) SubExpressions besteht, führt dies unweigerlich zum Problem, dass die Grösse des Datentyps prinzipiel nicht beschränkt ist. Wir können also im Voraus nicht wissen, wieviele dieser Sub-Expressions auf den Stack müssen, und darum können wir den benötigten Speicher nicht bereitstellen.\n",
    "\n",
    "Einen Ausweg gibt es, sobald wir Heap-Allozierte Daten-Typen haben. Dies sind meist dynamisch wachsende Typen, wie z.B. Arrays, Maps, Strings (oder eben selbstreferenzierende Strukturen). Bei einem Heap-Alloziertem Typen müssen wir nicht mehr die Struktur auf dem Stack speichern, sondern nur noch eine Referenz auf den entsprechenden Bereich im Heap. Dies löst unser Probelm, mit dem Nachteil, dass wir an \"Geschwindigkeit\" verlieren, da Zugriffe auf den Heap teurer sind als solche, die nur auf den Stack verweisen.\n",
    "### Box\n",
    "Im Beispiel oben verwenden wir den Datentyp `Box<T>`, der einen generischen Typen darstellt, welcher den Datentypen `T` auf dem Heap alloziert, und als Pointer interpretiert wird. Allozierung und Deallozierung werden automatisch von Rust gehandelt, so dass der Speicher freigegeben wird, sobald die `Box<T>` aus dem Scope verschwindet.\n",
    "\n",
    "Vergleiche nachfolgend die Speichergrösse für einen Boxed Typ und den Typen auf dem Stack. Wir sehen dass der Typ `SizeOfStruct` nur einen Integer hält (4 Bytes) und entsprechend auch nur 4 Bytes gross ist. Der Boxed Type ist abhängig von der zugrundeliegenden Plattform, heutzutage in der Regel 64bits sprich 8 Bytes."
   ]
  },
  {
   "cell_type": "code",
   "execution_count": 16,
   "metadata": {
    "vscode": {
     "languageId": "rust"
    }
   },
   "outputs": [
    {
     "name": "stdout",
     "output_type": "stream",
     "text": [
      "1\n",
      "8\n"
     ]
    },
    {
     "data": {
      "text/plain": [
       "()"
      ]
     },
     "execution_count": 16,
     "metadata": {},
     "output_type": "execute_result"
    }
   ],
   "source": [
    "struct SizeOfStruct {\n",
    "    test: u8\n",
    "}\n",
    "println!(\"{}\",std::mem::size_of::<SizeOfStruct>());\n",
    "println!(\"{}\", std::mem::size_of::<Box<SizeOfStruct>>())"
   ]
  },
  {
   "cell_type": "markdown",
   "metadata": {},
   "source": [
    "### Arrays (Vec)\n",
    "\n",
    "Ein weiterer wichtiger Datentyp stellen Arrays dar. Die einfachste Art einen Array in Rust abzubilden ist mit dem `Vec<T>` Datentyp. Dieser ist wiederum generisch zum Typen T. Wie bereits erwähnt wird ein Vec stets auf dem Heap alloziert. Da der Vector nur einem Typen `T` zu geordnet werden kann, muss in bestimmten Fällen der Typ explizit mit angegeben werden. Dies ist i.d.R. der Fall, wenn der Type-Inferer es nicht schafft, einen eindeutigen Typen zu finden. Meist passiert dies mit den `collect` Funktionen, welche auf Iterators definiert sind.\n",
    "\n",
    "In solchen Fällen kann entweder der Typ direkt bei der Variablen-Deklaration angegeben werden, oder aber mit dem sogenannten Turbo-Fish.\n",
    "\n",
    "Beachte nun zum Beispiel die zwei Vektoren, und anschliessend, der Gebrauch des Turbo-Fischs bei der `parse`-Funktion."
   ]
  },
  {
   "cell_type": "code",
   "execution_count": 8,
   "metadata": {
    "vscode": {
     "languageId": "rust"
    }
   },
   "outputs": [
    {
     "name": "stdout",
     "output_type": "stream",
     "text": [
      "[]\n"
     ]
    },
    {
     "name": "stdout",
     "output_type": "stream",
     "text": [
      "[0, 0, 0]\n",
      "3.2\n"
     ]
    }
   ],
   "source": [
    "let array : Vec<u32> = vec![];\n",
    "let some_elements = vec![0;3];\n",
    "\n",
    "println!(\"{:?}\", array);\n",
    "println!(\"{:?}\", some_elements);\n",
    "println!(\"{}\", \"3.2\".parse::<f32>().unwrap());"
   ]
  },
  {
   "cell_type": "markdown",
   "metadata": {},
   "source": [
    "### Options\n",
    "\n",
    "In Rust sind alle Typen immer initialisiert (sprich niemals Null). Es gibt aber Situationen, in denen ein Wert vorhanden, oder eben nicht vorhanden sein kann oder muss.\n",
    "\n",
    "Falls das ein Resultat einer Operation ist, kann man z.B. den `Result<T>` Datentypen verwenden, den wir später noch kennenlernen werden. Für Structs oder Enums empfiehlt sich der `Option<T>` Datentyp, der im Wesentlichen folgendes Enum darstellt (natürlich noch erweitert mit vielen hilfreichen Funktionen aus der Standardbibliothek)."
   ]
  },
  {
   "cell_type": "code",
   "execution_count": 9,
   "metadata": {
    "vscode": {
     "languageId": "rust"
    }
   },
   "outputs": [
    {
     "name": "stdout",
     "output_type": "stream",
     "text": [
      "Some(0)\n",
      "None\n"
     ]
    }
   ],
   "source": [
    "#[derive(Debug)]\n",
    "enum CustomOption<T> {\n",
    "    Some(T),\n",
    "    None\n",
    "}\n",
    "\n",
    "println!(\"{:?}\", CustomOption::Some(0u32));\n",
    "println!(\"{:?}\", CustomOption::<u32>::None);\n"
   ]
  },
  {
   "cell_type": "markdown",
   "metadata": {},
   "source": [
    "Unser erster Schritt, das Definieren des ASTs, ist nun abgeschlossen und im folgenden sind die oben erwähnten Strukturen ergänzt mit den Statement Strukturen.\n",
    "\n",
    "Gehe nochmals durch den Code, und führe ihn anschliessend aus."
   ]
  },
  {
   "cell_type": "code",
   "execution_count": 26,
   "metadata": {
    "vscode": {
     "languageId": "rust"
    }
   },
   "outputs": [],
   "source": [
    "#[derive(Debug, Clone)]\n",
    "pub enum Atomic {\n",
    "    String(String),\n",
    "    Number(f64),\n",
    "    Bool(bool),\n",
    "    Null,\n",
    "    Interrupt\n",
    "}\n",
    "\n",
    "#[derive(Debug, Clone)]\n",
    "pub enum LogicOp {\n",
    "    And(Expression, Expression),\n",
    "    Or(Expression, Expression),\n",
    "}\n",
    "\n",
    "\n",
    "#[derive(Debug, Clone)]\n",
    "pub enum Comparison {\n",
    "    Smaller(Expression, Expression),\n",
    "    SmallerEquals(Expression, Expression),\n",
    "    Equals(Expression, Expression),\n",
    "    Greater(Expression, Expression),\n",
    "    GreaterEquals(Expression, Expression),\n",
    "}\n",
    "\n",
    "#[derive(Debug, Clone)]\n",
    "pub enum BinaryOp {\n",
    "    Plus { left: Expression, right: Expression },\n",
    "    Minus { left: Expression, right: Expression },\n",
    "    Mul { left: Expression, right: Expression },\n",
    "    Div { left: Expression, right: Expression },\n",
    "    Mod { left: Expression, right: Expression },\n",
    "    Pow { left: Expression, right: Expression },\n",
    "    None,\n",
    "}\n",
    "\n",
    "/// Expressions\n",
    "#[derive(Debug, Clone)]\n",
    "pub struct ConditionalExpression {\n",
    "    pub condition: Box<Expression>,\n",
    "    pub body: Vec<Token>,\n",
    "    pub body_expression: Box<Expression>,\n",
    "    pub else_body: Vec<Token>,\n",
    "    pub else_body_expression: Box<Expression>,\n",
    "}\n",
    "\n",
    "\n",
    "#[derive(Debug, Clone)]\n",
    "pub enum Cast {\n",
    "    String(Expression),\n",
    "    Int(Expression),\n",
    "    Bool(Expression),\n",
    "}\n",
    "\n",
    "#[derive(Debug, Clone)]\n",
    "pub enum Expression {\n",
    "    Atomic(Atomic),\n",
    "    Ident(String),\n",
    "    LogicOp(Box<LogicOp>),\n",
    "    Comparison(Box<Comparison>),\n",
    "    BinaryOp(Box<BinaryOp>),\n",
    "    Conditional(ConditionalExpression),\n",
    "    Input(Box<Expression>),\n",
    "    Cast(Box<Cast>),\n",
    "}\n",
    "\n",
    "#[derive(Debug, Clone)]\n",
    "pub enum Statement {\n",
    "    VariableAssignment(VariableAssignment),\n",
    "    Conditional(Conditional),\n",
    "    Expression(Expression),\n",
    "    Print(Expression),\n",
    "    Loop(Loop)\n",
    "}\n",
    "\n",
    "#[derive(Debug, Clone)]\n",
    "pub struct Loop {\n",
    "    pub condition: Box<Expression>,\n",
    "    pub body: Vec<Token>,\n",
    "}\n",
    "\n",
    "#[derive(Debug, Clone)]\n",
    "pub struct Conditional {\n",
    "    pub condition: Box<Expression>,\n",
    "    pub body: Vec<Token>,\n",
    "    pub else_body: Option<Vec<Token>>,\n",
    "}\n",
    "\n",
    "#[derive(Debug, Clone)]\n",
    "pub struct VariableAssignment {\n",
    "    pub new_definition: bool,\n",
    "    pub ident: String,\n",
    "    pub value: Expression,\n",
    "}\n",
    "\n",
    "#[derive(Debug, Clone)]\n",
    "/// Unsere Sprache besteht aus verschiedenen Tokens\n",
    "pub enum Token {\n",
    "    /// Eine Expression ist ein Token, das einen Wert darstellt. Enstprechend kann eine Expression z.B. einer Variable \n",
    "    /// hinzugefügt werden.\n",
    "    Expression(Expression),\n",
    "    /// Ein Statement führt Code aus, stellt aber keinen Wert dar und kann somit nur alleine stehen\n",
    "    Statement(Statement),\n",
    "    /// Vorzeitiges Ende aus einer While-Loop\n",
    "    Break,\n",
    "    /// Placeholder für potenzielles early return\n",
    "    Return\n",
    "}"
   ]
  },
  {
   "cell_type": "markdown",
   "metadata": {},
   "source": [
    "## AST Erstellen (Step 2)\n",
    "\n",
    "Wir besitzen nun alle Strukturen, die wir benötigen um unseren AST darzustellen. Im nächsten Schritt wollen wir das geparsede Resultat von `pest` in eine etwas einfacher zu brauchenden, typisierte Struktur umwandeln.\n",
    "\n",
    "Wir werden nun im `step2.rs` versuchen, rekursive Funktionen aufzubauen, die wir verwenden können um unsere Strukturen zu befüllen.\n",
    "\n",
    "Pest liefert uns jeweils `Pair<Rule>`, wobei `Rule` einem Typen unserer Grammatik entspricht."
   ]
  },
  {
   "cell_type": "markdown",
   "metadata": {},
   "source": [
    "### Kontrollstrukturen\n",
    "\n",
    "In Rust gibt es verschiedene Kontrollstrukturen. Es gibt die klassischen `if` und `while` Statements, die basierend auf einer Condition, einen entsprechenden Branch ausführen."
   ]
  },
  {
   "cell_type": "code",
   "execution_count": 11,
   "metadata": {
    "vscode": {
     "languageId": "rust"
    }
   },
   "outputs": [
    {
     "name": "stdout",
     "output_type": "stream",
     "text": [
      "he is boolean\n",
      "0\n",
      "1\n",
      "2\n"
     ]
    },
    {
     "data": {
      "text/plain": [
       "()"
      ]
     },
     "execution_count": 11,
     "metadata": {},
     "output_type": "execute_result"
    }
   ],
   "source": [
    "let mut  i_am_boolean = true;\n",
    "if i_am_boolean {\n",
    "    println!(\"he is boolean\");\n",
    "} else {\n",
    "    println!(\"he is not :(\");\n",
    "}\n",
    "\n",
    "let mut i = 0;\n",
    "while i < 3 {\n",
    "    println!(\"{}\", i);\n",
    "    i+=1;\n",
    "}"
   ]
  },
  {
   "cell_type": "markdown",
   "metadata": {},
   "source": [
    "Weiter gibt es eine `loop`-Struktur, die einer `while (True) {}` Schlaufe entspricht (sprich nur mit dem Keyword `break` gestoppt werden können).\n"
   ]
  },
  {
   "cell_type": "code",
   "execution_count": 12,
   "metadata": {
    "vscode": {
     "languageId": "rust"
    }
   },
   "outputs": [
    {
     "name": "stdout",
     "output_type": "stream",
     "text": [
      "i = 6\n"
     ]
    }
   ],
   "source": [
    "let mut i = 0;\n",
    "loop {\n",
    "    if i > 5 {\n",
    "        break;\n",
    "    }\n",
    "    i += 1;\n",
    "}\n",
    "println!(\"i = {}\", i);"
   ]
  },
  {
   "cell_type": "markdown",
   "metadata": {},
   "source": [
    "<!--\n",
    " Copyright (c) 2022 Ubique Innovation AG <https://www.ubique.ch>\n",
    " \n",
    " This Source Code Form is subject to the terms of the Mozilla Public\n",
    " License, v. 2.0. If a copy of the MPL was not distributed with this\n",
    " file, You can obtain one at http://mozilla.org/MPL/2.0/.\n",
    "-->\n",
    "\n",
    "### Pattern Matching\n",
    "\n",
    "Eine spezielle Struktur stellt das Pattern-Matching dar. Pattern-Matching, wie der Name beretis andeutet, kann benutzt werden, um bestimmte Variabeln z.B. auf bestimmte Enum-Varianten zu matchen. Pattern-Matching mit `match` muss immer 'exhaustive' sein. Für Wildcard patterns kann das Konstrukt `_ => {}` verwendet werden.\n",
    "\n",
    "Im Pattern-Matching können die Felder von den Enum-Variants direkt an Variabeln gebunden werden. Weiter können Guards oder verschachtelte Patterns benutzt werden um das Pattern einzuschränken.\n",
    "\n",
    "Einzelne Statements können auch auf einer Linie ohne `{}` geschrieben werden, wobei sie dann aber als 'Expressions' interpretiert werden (und entsprechend muss jeder Branch den gleichen return wert haben)."
   ]
  },
  {
   "cell_type": "code",
   "execution_count": 13,
   "metadata": {
    "vscode": {
     "languageId": "rust"
    }
   },
   "outputs": [
    {
     "name": "stdout",
     "output_type": "stream",
     "text": [
      "It is an int with value: 34\n"
     ]
    }
   ],
   "source": [
    "pub enum Test {\n",
    "    Int(i32),\n",
    "    Bool(bool),\n",
    "    String(String)\n",
    "}\n",
    "\n",
    "let an_int = Test::Int(34);\n",
    "match an_int {\n",
    "    Test::Int(the_int) if the_int == 234 => {\n",
    "        println!(\"234\")\n",
    "    }\n",
    "    Test::Int(314) => {\n",
    "        println!(\"fast pi\")\n",
    "    }\n",
    "    Test::Int(1..=32) => {\n",
    "        println!(\"irgendwo zwischen 1 und 32\")\n",
    "    }\n",
    "    Test::Int(-32..=-1) => {\n",
    "        println!(\"irgendwo zwischen -1 und -32\")\n",
    "    }\n",
    "\n",
    "    Test::Int(the_int) => {\n",
    "        println!(\"It is an int with value: {}\", the_int)\n",
    "    }\n",
    "    Test::Bool(the_bool) => println!(\"{}\", the_bool), // hier brauchts ein ','\n",
    "    _ => {\n",
    "        panic!(\"this should not happen\");\n",
    "    }\n",
    "};"
   ]
  },
  {
   "cell_type": "markdown",
   "metadata": {},
   "source": [
    "Expressions können ebenfalls direkt mit dem `if-let`-Statement gematched werden, falls nur eine spezielle Variante geprüft werden will."
   ]
  },
  {
   "cell_type": "code",
   "execution_count": 4,
   "metadata": {
    "vscode": {
     "languageId": "rust"
    }
   },
   "outputs": [
    {
     "name": "stdout",
     "output_type": "stream",
     "text": [
      "Yes an int 34\n"
     ]
    },
    {
     "data": {
      "text/plain": [
       "()"
      ]
     },
     "execution_count": 4,
     "metadata": {},
     "output_type": "execute_result"
    }
   ],
   "source": [
    "// Copyright (c) 2022 Ubique Innovation AG <https://www.ubique.ch>\n",
    "// \n",
    "// This Source Code Form is subject to the terms of the Mozilla Public\n",
    "// License, v. 2.0. If a copy of the MPL was not distributed with this\n",
    "// file, You can obtain one at http://mozilla.org/MPL/2.0/.\n",
    "\n",
    "if let Test::Int(i) = an_int {\n",
    "    println!(\"Yes an int {}\", i);\n",
    "}"
   ]
  },
  {
   "cell_type": "markdown",
   "metadata": {},
   "source": [
    "Da wir uns jetzt etwas mit Schlaufen und Pattern-Matching auskennen, fahren wir folgend fort. Wir wollen mit einem `body` Rule (also unserem Top-Level Match anfangen) und schreiben jeweils Funktionen um die Sub-Patterns in den AST umzuwandeln.\n",
    "\n",
    "Wir wollen also Top-Level auf drei Patterns matchen:\n",
    "\n",
    "- Break\n",
    "- Expressions\n",
    "- Statements\n",
    "\n",
    "Da wir nur wenige Statements haben, inlinen wir das Sub-Pattern direkt im Schlaufen-Body. Für die Expressions benutzen wir eine Separate-Funktion."
   ]
  },
  {
   "cell_type": "markdown",
   "metadata": {},
   "source": [
    "<!--\n",
    " Copyright (c) 2022 Ubique Innovation AG <https://www.ubique.ch>\n",
    " \n",
    " This Source Code Form is subject to the terms of the Mozilla Public\n",
    " License, v. 2.0. If a copy of the MPL was not distributed with this\n",
    " file, You can obtain one at http://mozilla.org/MPL/2.0/.\n",
    "-->\n",
    "\n",
    "### Funktions-Definitionen\n",
    "\n"
   ]
  },
  {
   "cell_type": "markdown",
   "metadata": {},
   "source": [
    "In Rust werden Funktionen mit dem `fn` Keyword definiert. Wie bei den Structs kann der Modifier `pub` verwendet werden, um die Funktion ausserhalb des Moduls zur Verfügung zu stellen. Weiter werden die Argumente gemäss `<name> : <Type>>` in Klammern aufgezählt. \n",
    "\n",
    "Es gibt drei verschiedene `modifiers` für die Argumente. Diese können die `Ownership` übernehmen, sprich sind der alleinige Besitzer eines Wertes, können einen Wert ausleihen (mehrere Orte können gleichzeitig von einem Wert leihen, aber es gibt jeweils immer nur einen Owner), oder aber einen Wert modifizierbar ausleihen. Der `Borrow` wird jeweils mit dem Ampersand ('&') dargestellt und mit `mut` modifiziert.\n",
    "\n",
    "Der Rückgabewert wird nach einem Pfeil nach der Klammer der Argumente mit angegeben.\n",
    "\n",
    "Beachte folgende Beispiele:"
   ]
  },
  {
   "cell_type": "markdown",
   "metadata": {},
   "source": [
    "\n",
    "> Der Rust-Compiler ist dein Freund. Hör auf ihn, wenn er dir versucht was zu erzählen, da oft der richtige Lösungsweg vorgeschlagen wird, resp. weitergehende Informationen zum Problem angezeigt werden.\n",
    "Versuch folgendes Beispile zum Kompillieren zu bringen.\n"
   ]
  },
  {
   "cell_type": "code",
   "execution_count": 11,
   "metadata": {
    "vscode": {
     "languageId": "rust"
    }
   },
   "outputs": [
    {
     "ename": "Error",
     "evalue": "cannot borrow `the_string` as mutable, as it is not declared as mutable",
     "output_type": "error",
     "traceback": [
      "    the_string.push_str(\"test\");",
      "    ^^^^^^^^^^^^^^^^^^^^^^^^^^^ cannot borrow as mutable",
      "cannot borrow `the_string` as mutable, as it is not declared as mutable",
      "help: consider changing this to be mutable\n\nmut the_string"
     ]
    },
    {
     "ename": "Error",
     "evalue": "cannot borrow `*the_string` as mutable, as it is behind a `&` reference",
     "output_type": "error",
     "traceback": [
      "    the_string.push_str(\"test\");",
      "    ^^^^^^^^^^^^^^^^^^^^^^^^^^^ `the_string` is a `&` reference, so the data it refers to cannot be borrowed as mutable",
      "cannot borrow `*the_string` as mutable, as it is behind a `&` reference",
      "help: consider changing this to be a mutable reference\n\n&mut String"
     ]
    },
    {
     "ename": "Error",
     "evalue": "borrow of moved value: `my_string`",
     "output_type": "error",
     "traceback": [
      "let _ = owned(my_string);",
      "              ^^^^^^^^^ value moved here",
      "borrowed(&my_string);",
      "         ^^^^^^^^^^ value borrowed here after move",
      "let my_string = String::new();",
      "    ^^^^^^^^^ move occurs because `my_string` has type `String`, which does not implement the `Copy` trait",
      "borrow of moved value: `my_string`"
     ]
    }
   ],
   "source": [
    "// Das ist Owned aber nicht mutable\n",
    "fn owned(the_string: String) -> String {\n",
    "    the_string.push_str(\"test\");\n",
    "    the_string\n",
    "}\n",
    "// Das ist nur geborgt\n",
    "fn borrowed(the_string: &String) {\n",
    "    // dies geht nicht, weil wir keinen mutable Access auf the_string haben\n",
    "    the_string.push_str(\"test\");\n",
    "    println!(\"{}\", the_string);\n",
    "}\n",
    "//Das ist geborgt, aber mutably\n",
    "fn mut_borrowed(the_string: &mut String) {\n",
    "    the_string.push_str(\"test\");\n",
    "}\n",
    "\n",
    "let my_string = String::new();\n",
    "let _ = owned(my_string);\n",
    "borrowed(&my_string);\n",
    "let mut my_string = my_string;\n",
    "mut_borrowed(&mut my_string);\n",
    "\n",
    "println!(\"{}\", my_string);"
   ]
  },
  {
   "cell_type": "code",
   "execution_count": null,
   "metadata": {
    "vscode": {
     "languageId": "rust"
    }
   },
   "outputs": [],
   "source": [
    "pub fn parse_body(body: Pair<Rule>) -> Vec<Token> {\n",
    "    // wir definieren einen leeren array mit Tokens.\n",
    "    // Diese werden anschliessend befüllt und zurückgegeben.\n",
    "    let mut tokens = vec![];\n",
    "    // Hier sehen wir eine for loop\n",
    "    // die `into_inner` Funktoin vom Pair liefert uns die möglichen inneren Regeln.\n",
    "    // In unserem Fall beinhaltet der body statements/expressions oder Break...\n",
    "    for pair in body.into_inner() {\n",
    "        // ... entsprechend machen wir hier ein sogenanntes `Pattern matching`\n",
    "        match pair.as_rule() {\n",
    "            Rule::break_keyword => tokens.push(Token::Break),\n",
    "            // für Statements inlinen wir die Sub-Patterns\n",
    "            Rule::statement => {\n",
    "                // Unwrap hier ist Safe, weil wir wissen, dass an dieser Stelle \n",
    "                // innere Regeln existieren müssen (da sonst unserer Grammatik widersprochen würde)\n",
    "                let inner = pair.into_inner().next().unwrap();\n",
    "                // Match Strukturen sind Expressions und können entsprechend ein Resultat returnen\n",
    "                // allerdings muss jeder Branch den gleichen Return-Wert haben!\n",
    "                let stmt = match inner.as_rule() {\n",
    "                    Rule::variable_statement => as_var_assignment(inner),\n",
    "                    Rule::if_statement => as_if_statment(inner),\n",
    "                    Rule::print_statement => as_print_statement(inner),\n",
    "                    Rule::expression_statement => Token::Statement(Statement::Expression(\n",
    "                        as_expression(inner.into_inner().next().unwrap()),\n",
    "                    )),\n",
    "                    Rule::while_statement => as_while_statement(inner),\n",
    "                    _ => continue,\n",
    "                };\n",
    "                tokens.push(stmt);\n",
    "            }\n",
    "            Rule::expression => {\n",
    "                tokens.push(Token::Expression(as_expression(pair)));\n",
    "            }\n",
    "            // wir können mit bestimmten makros unsere intention zeigen.\n",
    "            // so gibt es z.B. unreachable!() aber auch todo!() oder unimplemented!()\n",
    "            // Die Makros nehmen jeweils einen String, der als Beschreibung beim Fehler angezeigt wird.\n",
    "\n",
    "            // In unserem Falle haben wir alle möglichen Optionen gemäss unserer Grammatik implementiert,\n",
    "            // entsprechend sind alle anderen Branches nicht erreichbar\n",
    "            _ => unreachable!(),\n",
    "        }\n",
    "    }\n",
    "    tokens\n",
    "}"
   ]
  },
  {
   "cell_type": "markdown",
   "metadata": {},
   "source": [
    "### Lambdas\n",
    "\n",
    "Lambdas sind \"1st Class Citizens\" in der Rust-Welt. Sprich jedes Lambda entspricht einem bestimmten Typen, und sie können als Funktionsargumente und in variabeln gespeichert werden. Sie können auch Variabeln aus dem Scope \"capturen\", wobei jenachdem die `move` Semantik benutzt werden muss (wie bereits gelernt, kontrolliert der Compiler den alleinigen mutable Zugriff auf Variabeln.).\n",
    "\n",
    "#### Lifetimes\n",
    "\n",
    "Um dies besser zu verstehen, müssen wir auf das Konzept von \"Lifetimes\" eingehen. Der Rust Compiler versucht Zugriffe auf Speicherbereiche, die z.B. bereits aufgeräumt wird zu vermeiden. Um dies zu ermöglichen, braucht der Compiler einen Kontext resp. Hinweis über wie lange bestimmte Variabeln \"leben\". Dies geschieht in Rust (meistens) Implizit mit \"Typenähnlichen Generic Arguments\". Lebenszeiten werden mit vorangestelltem einfachem Hochkommata deklariert. Dies ist allerdings nur in speziellen Fällen nötig, wo der Compiler keine Eindeutige Lebenszeit ableiten kann.\n",
    "\n",
    "Es gibt die spezielle Lebenszeit `'static`, welche bedeutet, dass die Referenz während dem ganzen Programmablauf verfügbar ist. Lebenszeiten können stets auf kürzere Zeiten gecasted werden, jedoch nie auf längere (da sonst der Compiler nicht garantieren kann, dass die Variable nicht nach dem freigeben von Speicher benutzt wird).\n",
    "\n",
    "Folgend ein Beispiel mit zwei Lebzeiten. Hör auf den Compiler und fix das Problem:"
   ]
  },
  {
   "cell_type": "code",
   "execution_count": 18,
   "metadata": {
    "vscode": {
     "languageId": "rust"
    }
   },
   "outputs": [
    {
     "ename": "Error",
     "evalue": "lifetime may not live long enough",
     "output_type": "error",
     "traceback": [
      "fn lifetimes<'first, 'second: 'first>(_lives_longer_than: &'second str, i_do: &'first str) -> &'second str {",
      "             ^^^^^^ lifetime `'first` defined here",
      "fn lifetimes<'first, 'second: 'first>(_lives_longer_than: &'second str, i_do: &'first str) -> &'second str {",
      "                     ^^^^^^^ lifetime `'second` defined here",
      "    i_do",
      "    ^^^^ function was supposed to return data with lifetime `'second` but it is returning data with lifetime `'first`",
      "lifetime may not live long enough",
      "help: consider adding the following bound: `'first: 'second`"
     ]
    }
   ],
   "source": [
    "// Funktion mit zwei Lebzeiten. `second` lebt länger als `first`, was durch den lifetime bound angegeben wird.\n",
    "fn lifetimes<'first, 'second: 'first>(_lives_longer_than: &'second str, i_do: &'first str) -> &'second str {\n",
    "    i_do\n",
    "}\n",
    "\n",
    "let l = lifetimes(\"test\", \"other\");\n",
    "println!(\"{}\", l);"
   ]
  },
  {
   "cell_type": "markdown",
   "metadata": {},
   "source": [
    "Wenn wir nun wieder zu den Lamdas zurück gehen, müssen wir nochmals auf den Scope zu sprechen kommen. Falls eine Funktion z.B. weitergegeben wird, sprich den aktuellen Scope verlässt, müssen wir garantieren, dass die Variabeln die gecaptured wurden, solange leben können. Dies geht i.d.R. nur, wenn die Variable vom aktuellen Scope in den Scope des Lambdas gemoved wird. Dies wird wie bereits erwähnt mit dem `move` Keyword erreicht.\n",
    "\n",
    "Lambdas resp. Closures sind im Prinzip nur Pointers zu einem Speicherbereich. Um nun sicherzustellen, dass die Funktion lange genug lebt, müssen wir sie auf dem Heap allozieren, und brauchen entsprechend eine Indirektion via einer `Box<T>`.\n",
    "\n",
    "Im folgenden Beispiel kombinieren wir Lebenszeiten (welche einfach Generic-Bounds darstellen), mit Closures. Versuch den Compiler zu verstehen, und fixe folgende Funktion:"
   ]
  },
  {
   "cell_type": "code",
   "execution_count": 22,
   "metadata": {
    "vscode": {
     "languageId": "rust"
    }
   },
   "outputs": [
    {
     "ename": "Error",
     "evalue": "lifetime may not live long enough",
     "output_type": "error",
     "traceback": [
      "fn some_function<'lebenszeit>(arg: &'lebenszeit str) -> Box<dyn Fn() -> bool> {",
      "                 ^^^^^^^^^^^ lifetime `'lebenszeit` defined here",
      "    Box::new(unser_lambda_braucht_move)",
      "    ^^^^^^^^^^^^^^^^^^^^^^^^^^^^^^^^^^^ returning this value requires that `'lebenszeit` must outlive `'static`",
      "lifetime may not live long enough",
      "help: to declare that the trait object captures data from argument `arg`, you can add an explicit `'lebenszeit` lifetime bound\n\n + 'lebenszeit"
     ]
    }
   ],
   "source": [
    "fn some_function<'lebenszeit>(arg: &'lebenszeit str) -> Box<dyn Fn() -> bool> {\n",
    "    let a_variable = String::from(\"Ich bin auf dem Heap\");\n",
    "    let unser_lambda_braucht_move = move || a_variable == arg;\n",
    "    Box::new(unser_lambda_braucht_move)\n",
    "}\n",
    "println!(\"{}\", some_function(\"Ich bin auf dem Heap\")());\n",
    "println!(\"{}\", some_function(\"Ich nicht\")());"
   ]
  },
  {
   "cell_type": "markdown",
   "metadata": {},
   "source": [
    "Im folgenden Beispiel benutzen wir sogenanntes [`Precidence Climbing`](https://en.wikipedia.org/wiki/Operator-precedence_parser) um unsere numerischen Operationen aufzulösen. `Pest` liefert uns den nötigen Algorithmus, wir müssen nur noch das Mapping von `pest`-Rule zu unserem AST durchführen.\n",
    "\n",
    "Weiter braucht `pest` noch eine Reduktion zu einem `atomic` Typen. Für diese beiden Operationen benutzen wir die Closures `primary` und `infix`."
   ]
  },
  {
   "cell_type": "code",
   "execution_count": null,
   "metadata": {
    "vscode": {
     "languageId": "rust"
    }
   },
   "outputs": [],
   "source": [
    "pub fn evaluate_num_operations(pair: Pair<Rule>) -> Expression {\n",
    "    // Unser precidence climbing höhere Branches stellen höheren Rang dar.\n",
    "    // In unserem Beispiel ist die Exponential-Funktion rechts assoziativ (bindet nach rechts) und hat die höchste Gewichtung\n",
    "    // gefolgt von * / und % und\n",
    "    // mit + und - die am schwächsten bindenden Funktionen\n",
    "\n",
    "    // Idealerweise würden wir hier den PrecClimber nicht jedesmal bei einer evaluierung neu erstellen, sondern global speichern und benutzen. \n",
    "    // Aber für unseren Fall ist das nicht nötig, da der Runtime-Impact wohl vernachlässigbar klein ist.\n",
    "    let climber = PrecClimber::new(vec![\n",
    "        Operator::new(Rule::plus, Assoc::Left) | Operator::new(Rule::minus, Assoc::Left),\n",
    "        Operator::new(Rule::mul, Assoc::Left)\n",
    "            | Operator::new(Rule::div, Assoc::Left)\n",
    "            | Operator::new(Rule::mod_op, Assoc::Left),\n",
    "        Operator::new(Rule::pow, Assoc::Right),\n",
    "    ]);\n",
    "    consume_bin_num_op(pair, &climber)\n",
    "}\n",
    "\n",
    "fn consume_bin_num_op(pair: Pair<Rule>, climber: &PrecClimber<Rule>) -> Expression {\n",
    "    // Wir benutzen unsere rekursive Funktion um Rules zu Atomics in einem mathematischen Ausdruck zu reduzieren.\n",
    "    let primary = |pair| consume_bin_num_op(pair, climber);\n",
    "\n",
    "    // Unsere infix Closure reduziert eine Operator Rule zu einer BinaryOp expression in unserem Ast.\n",
    "    // Hier initialisieren wir die Struct-Enum-Variabt mit den Feldern `left` und `right.\n",
    "    let infix = |left: Expression, op: Pair<Rule>, right: Expression| match op.as_rule() {\n",
    "        Rule::plus => Expression::BinaryOp(Box::new(BinaryOp::Plus { left, right })),\n",
    "        Rule::minus => Expression::BinaryOp(Box::new(BinaryOp::Minus { left, right })),\n",
    "        Rule::mod_op => Expression::BinaryOp(Box::new(BinaryOp::Mod { left, right })),\n",
    "        Rule::mul => Expression::BinaryOp(Box::new(BinaryOp::Mul { left, right })),\n",
    "        Rule::div => Expression::BinaryOp(Box::new(BinaryOp::Div { left, right })),\n",
    "        Rule::pow => Expression::BinaryOp(Box::new(BinaryOp::Pow { left, right })),\n",
    "        p => unreachable!(\"{:?}\", p),\n",
    "    };\n",
    "\n",
    "    // es gibt drei Möglichkeiten um an diesem Punkt zu enden\n",
    "    match pair.as_rule() {\n",
    "        Rule::binary_num_expression => climber.climb(pair.into_inner(), primary, infix),\n",
    "        Rule::parent_expression => consume_bin_num_op(pair.into_inner().next().unwrap(), climber),\n",
    "        Rule::rvalue_maybe_numeric => get_literal(pair.into_inner()),\n",
    "        p => unreachable!(\"{:?}\", p),\n",
    "    }\n",
    "}"
   ]
  },
  {
   "cell_type": "markdown",
   "metadata": {},
   "source": [
    "### Iterators\n",
    "\n",
    "Rust besitzt viele Aspekte einer funktionalen Programmiersprache. Eines der interessanten Konzepte sind die Iterators (Streams, Enumerable, oder wie auch immer), die auf Listen-Typen (Maps, Vectors) aber auch auf Result oder Option definiert sind. Ein Iterator ist im Prinzip ein Trait, das auf einem Typen definiert ist und eine Funktion `next` besitzt. Diese Funktion liefert `Some(T)` falls es eine weiteres Element besitzt oder `None` falls nicht zurück.\n",
    "\n",
    "Der Standardweg in Rust um von einem Collection-Typen zu einem Iterator zu kommen geht über eine der drei verschiedenen Funktionen, wobei der einzige Unterschied die Art und Weise der \"Referenz\" auf die Typen ist:\n",
    "\n",
    "- `iter()`: Die Elemente des Collection-Typen werden immutable geliehen. Man kann Elemente in neue Typen mappen, filtern usw. aber die Elemente selbst nicht verändern.\n",
    "\n",
    "- `iter_mut()`: Die Elemente des Collection-Typen werden *mutable*  geliehen. Man kann das gleiche erreichen wie bei `iter()` plus zusätzlich die Elemente *in place* bearbeiten. Der Collection-Typ muss mutable sein.\n",
    "\n",
    "- `into_iter()`: Consumed den Collection-Typen und nimmt Ownership. Man kann alles mit dem Typen machen, der Collection-Typ muss aber geowned sein.\n",
    "\n",
    "Das `for`-Konstrukt in Rust benutzt automatisch, gemäss Kontext eine der drei Funktionen. Standardmässig wird `into_iter()` aufgerufen und enstprechend sind alle Elemente geowned. Mit `&` resp. `&mut ` kann man die entsprechenden `iter()` oder `iter_mut()` enforcen."
   ]
  },
  {
   "cell_type": "code",
   "execution_count": 40,
   "metadata": {
    "vscode": {
     "languageId": "rust"
    }
   },
   "outputs": [
    {
     "ename": "Error",
     "evalue": "The variable `i` contains a reference with a non-static lifetime so can't be persisted",
     "output_type": "error",
     "traceback": [
      "let i = &test[0];",
      "",
      "let i = &test[0];",
      "    ^ ",
      "The variable `i` contains a reference with a non-static lifetime so can't be persisted"
     ]
    },
    {
     "ename": "Error",
     "evalue": "borrow of moved value: `test`",
     "output_type": "error",
     "traceback": [
      "for t in test {",
      "         ^^^^ `test` moved due to this implicit call to `.into_iter()`",
      "let i = &test[0];",
      "         ^^^^ value borrowed here after move",
      "let test = vec![String::from(\"1\"), String::from(\"2\"), String::from(\"3\")];",
      "    ^^^^ move occurs because `test` has type `Vec<String>`, which does not implement the `Copy` trait",
      "borrow of moved value: `test`",
      "help: consider iterating over a slice of the `Vec<String>`'s content to avoid moving into the `for` loop\n\n&"
     ]
    }
   ],
   "source": [
    "let test = vec![String::from(\"1\"), String::from(\"2\"), String::from(\"3\")];\n",
    "\n",
    "for t in test {\n",
    "    println!(\"{}\", t);\n",
    "}\n",
    "// warum geht das hier nicht?\n",
    "let i = &test[0];\n",
    "\n",
    "let mut other_test = vec![String::from(\"mut 1\"), String::from(\"mut 2\"), String::from(\"mut 3\")];\n",
    "\n",
    "// was fehlt damit das geht?\n",
    "for t in &mut other_test {\n",
    "    t.push_str(\"... wurde geändert\");\n",
    "}\n",
    "for t in &other_test {\n",
    "    println!(\"{}\", t);\n",
    "}\n",
    "\n"
   ]
  },
  {
   "cell_type": "markdown",
   "metadata": {},
   "source": [
    "Auf den Iterators gibt es viele spannede Funktionen wie:\n",
    "\n",
    "- `filter`: Nimmt eine Closure und yielded nur die Elemente die, die Closure erfüllen\n",
    "\n",
    "- `map`: Mapped ein Element in ein anderes\n",
    "\n",
    "- `for_each`: Funktionale Variante der `for` Loop\n",
    "\n",
    "- `collect<T>`: Sammelt alle Elemente in einen Collection-Typen. Oft als `collect::<Vec<_>>()` oder `collect::<HashMap<_,_>>()` gebraucht (beachte die Underscores sind valider Syntax, da der Compiler i.d.R. aus dem Inhalt des Iterators bestimmen kann was die enstprechenden Generic-Argumente sein müssen). Anstelle des Turbo-Fish kann man auch das Resultat in einer Variable binden und den Typen explizit mit angeben.\n",
    "\n",
    "- `cloned()`: Nimmt jedes Element im Iterator und führt `clone()` aus, damit der Resultierende Iterator die Elemente `owned`\n"
   ]
  },
  {
   "cell_type": "code",
   "execution_count": null,
   "metadata": {
    "vscode": {
     "languageId": "rust"
    }
   },
   "outputs": [],
   "source": [
    "let initial = vec![1, 2, 3, 4, 5, 6];\n",
    "let plus_one = initial\n",
    "    .iter()\n",
    "    .map(|element| element + 1)\n",
    "    .collect::<Vec<_>>();\n",
    "let only_even = initial\n",
    "    .iter()\n",
    "    .filter(|&element| element % 2 == 0)\n",
    "    .collect::<Vec<_>>();\n",
    "\n",
    "for (initial, plus_one) in initial.iter().zip(plus_one.iter()){\n",
    "    println!(\"{} -> {}\", initial, plus_one);\n",
    "}\n",
    "\n",
    "for only_even in only_even {\n",
    "    println!(\"{} is even\", only_even);\n",
    "}\n",
    "\n",
    "// warum funktioniert das?\n",
    "for skipped in initial.iter().skip(1).step_by(2) {\n",
    "    println!(\"{} is also even\", skipped);\n",
    "}"
   ]
  },
  {
   "cell_type": "markdown",
   "metadata": {},
   "source": [
    "Jetzt sind wir ready, um alle Objekte zu parsen und in einen AST zu bauen. Schau dir folgenden Code an und führe ihn anschliessend aus!"
   ]
  },
  {
   "cell_type": "code",
   "execution_count": 27,
   "metadata": {
    "vscode": {
     "languageId": "rust"
    }
   },
   "outputs": [],
   "source": [
    "use pest::{\n",
    "    iterators::{Pair, Pairs},\n",
    "    prec_climber::{Assoc, Operator, PrecClimber},\n",
    "};\n",
    "\n",
    "pub fn parse_body(body: Pair<Rule>) -> Vec<Token> {\n",
    "    let mut tokens = vec![];\n",
    "    for pair in body.into_inner() {\n",
    "        match pair.as_rule() {\n",
    "            Rule::break_keyword => tokens.push(Token::Break),\n",
    "            Rule::statement => {\n",
    "                let inner = pair.into_inner().next().unwrap();\n",
    "                let stmt = match inner.as_rule() {\n",
    "                    Rule::variable_statement => as_var_assignment(inner),\n",
    "                    Rule::if_statement => as_if_statment(inner),\n",
    "                    Rule::print_statement => as_print_statement(inner),\n",
    "                    Rule::expression_statement => Token::Statement(Statement::Expression(\n",
    "                        as_expression(inner.into_inner().next().unwrap()),\n",
    "                    )),\n",
    "                    Rule::while_statement => as_while_statement(inner),\n",
    "                    _ => continue,\n",
    "                };\n",
    "                tokens.push(stmt);\n",
    "            }\n",
    "            Rule::expression => {\n",
    "                tokens.push(Token::Expression(as_expression(pair)));\n",
    "            }\n",
    "            _ => unreachable!(),\n",
    "        }\n",
    "    }\n",
    "    tokens\n",
    "}\n",
    "\n",
    "pub fn evaluate_num_operations(pair: Pair<Rule>) -> Expression {\n",
    "    let climber = PrecClimber::new(vec![\n",
    "        Operator::new(Rule::plus, Assoc::Left) | Operator::new(Rule::minus, Assoc::Left),\n",
    "        Operator::new(Rule::mul, Assoc::Left)\n",
    "            | Operator::new(Rule::div, Assoc::Left)\n",
    "            | Operator::new(Rule::mod_op, Assoc::Left),\n",
    "        Operator::new(Rule::pow, Assoc::Right),\n",
    "    ]);\n",
    "    consume_bin_num_op(pair, &climber)\n",
    "}\n",
    "\n",
    "fn consume_bin_num_op(pair: Pair<Rule>, climber: &PrecClimber<Rule>) -> Expression {\n",
    "    let primary = |pair| consume_bin_num_op(pair, climber);\n",
    "\n",
    "    let infix = |left: Expression, op: Pair<Rule>, right: Expression| match op.as_rule() {\n",
    "        Rule::plus => Expression::BinaryOp(Box::new(BinaryOp::Plus { left, right })),\n",
    "        Rule::minus => Expression::BinaryOp(Box::new(BinaryOp::Minus { left, right })),\n",
    "        Rule::mod_op => Expression::BinaryOp(Box::new(BinaryOp::Mod { left, right })),\n",
    "        Rule::mul => Expression::BinaryOp(Box::new(BinaryOp::Mul { left, right })),\n",
    "        Rule::div => Expression::BinaryOp(Box::new(BinaryOp::Div { left, right })),\n",
    "        Rule::pow => Expression::BinaryOp(Box::new(BinaryOp::Pow { left, right })),\n",
    "        p => Expression::Atomic(Atomic::String(format!(\"{:?}\", p))),\n",
    "    };\n",
    "\n",
    "    match pair.as_rule() {\n",
    "        Rule::binary_num_expression => climber.climb(pair.into_inner(), primary, infix),\n",
    "        Rule::parent_expression => consume_bin_num_op(pair.into_inner().next().unwrap(), climber),\n",
    "        Rule::rvalue_maybe_numeric => get_literal(pair.into_inner()),\n",
    "        p => unreachable!(\"{:?}\", p),\n",
    "    }\n",
    "}\n",
    "\n",
    "fn as_print_statement(inner: Pair<Rule>) -> Token {\n",
    "    let mut inner = inner.into_inner().skip(1);\n",
    "    let string = as_expression(inner.next().unwrap());\n",
    "    Token::Statement(Statement::Print(string))\n",
    "}\n",
    "\n",
    "fn as_if_statment(inner: Pair<Rule>) -> Token {\n",
    "    let mut inner = inner.into_inner().skip(1);\n",
    "    let c = inner.next().unwrap().into_inner().next().unwrap();\n",
    "    let condition = as_expression(c);\n",
    "    let body = parse_body(inner.next().unwrap());\n",
    "    let mut else_body = None;\n",
    "    if inner.next().is_some() {\n",
    "        else_body = Some(parse_body(inner.next().unwrap()));\n",
    "    }\n",
    "    Token::Statement(Statement::Conditional(Conditional {\n",
    "        condition: Box::new(condition),\n",
    "        body,\n",
    "        else_body,\n",
    "    }))\n",
    "}\n",
    "\n",
    "fn as_while_statement(inner: Pair<Rule>) -> Token {\n",
    "    let mut inner = inner.into_inner().skip(1);\n",
    "    let c = inner.next().unwrap().into_inner().next().unwrap();\n",
    "    let condition = as_expression(c);\n",
    "    let body = parse_body(inner.next().unwrap());\n",
    "    Token::Statement(Statement::Loop(Loop {\n",
    "        condition: Box::new(condition),\n",
    "        body,\n",
    "    }))\n",
    "}\n",
    "\n",
    "fn as_var_assignment(pair: Pair<Rule>) -> Token {\n",
    "    let inner = pair.into_inner().collect::<Vec<_>>();\n",
    "    let is_new_var = matches!(inner[0].as_rule(), Rule::let_name);\n",
    "    let ident_name = if is_new_var {\n",
    "        inner[1].as_str()\n",
    "    } else {\n",
    "        inner[0].as_str()\n",
    "    };\n",
    "    let expression = if is_new_var {\n",
    "        inner[2].clone()\n",
    "    } else {\n",
    "        inner[1].clone()\n",
    "    };\n",
    "    let expression = as_expression(expression);\n",
    "    let stmt = Statement::VariableAssignment(VariableAssignment {\n",
    "        new_definition: is_new_var,\n",
    "        ident: ident_name.to_string(),\n",
    "        value: expression,\n",
    "    });\n",
    "    Token::Statement(stmt)\n",
    "}\n",
    "\n",
    "fn as_expression(expression: Pair<Rule>) -> Expression {\n",
    "    match expression.as_rule() {\n",
    "        Rule::if_expression => as_if_expression(expression),\n",
    "        Rule::binary_num_expression => as_binary_number_expression(expression),\n",
    "        Rule::boolean_operation => as_boolean_operation(expression),\n",
    "        Rule::boolean_expression => as_boolean_expression(expression),\n",
    "        Rule::rvalue => as_literal(expression),\n",
    "        Rule::binary_string_expression => todo! {\"Not implemented\"},\n",
    "        Rule::expression => {\n",
    "            let mut inner = expression.into_inner();\n",
    "            let expr = inner.next().unwrap();\n",
    "            if let Some(cast) = inner.next() {\n",
    "                as_cast(cast, as_expression(expr))\n",
    "            } else {\n",
    "                as_expression(expr)\n",
    "            }\n",
    "        }\n",
    "        Rule::input_expression => as_input_expression(expression.into_inner().nth(1).unwrap()),\n",
    "        _ => unreachable!(\"{:?}\", expression),\n",
    "    }\n",
    "}\n",
    "fn as_cast(cast: Pair<Rule>, expr: Expression) -> Expression {\n",
    "    let inner = cast\n",
    "        .into_inner()\n",
    "        .nth(1)\n",
    "        .unwrap()\n",
    "        .into_inner()\n",
    "        .next()\n",
    "        .unwrap();\n",
    "    match inner.as_rule() {\n",
    "        Rule::string => Expression::Cast(Box::new(Cast::String(expr))),\n",
    "        Rule::number => Expression::Cast(Box::new(Cast::Int(expr))),\n",
    "        Rule::bool => Expression::Cast(Box::new(Cast::Bool(expr))),\n",
    "        _ => unreachable!(),\n",
    "    }\n",
    "}\n",
    "\n",
    "fn as_input_expression(expression: Pair<Rule>) -> Expression {\n",
    "    Expression::Input(Box::new(as_expression(expression)))\n",
    "}\n",
    "\n",
    "fn as_if_expression(inner: Pair<Rule>) -> Expression {\n",
    "    let mut inner = inner.into_inner().skip(1);\n",
    "    let condition = as_expression(inner.next().unwrap().into_inner().next().unwrap());\n",
    "    let body = parse_body(inner.next().unwrap());\n",
    "    let body_expression = as_expression(inner.next().unwrap().into_inner().next().unwrap());\n",
    "    inner.next();\n",
    "    let mut else_body = parse_body(inner.next().unwrap());\n",
    "    let mut else_expression = Box::new(as_expression(\n",
    "        inner.next().unwrap().into_inner().next().unwrap(),\n",
    "    ));\n",
    "\n",
    "    Expression::Conditional(ConditionalExpression {\n",
    "        condition: Box::new(condition),\n",
    "        body,\n",
    "        body_expression: Box::new(body_expression),\n",
    "        else_body,\n",
    "        else_body_expression: else_expression,\n",
    "    })\n",
    "}\n",
    "\n",
    "fn as_binary_number_expression(pair: Pair<Rule>) -> Expression {\n",
    "    evaluate_num_operations(pair)\n",
    "}\n",
    "\n",
    "fn as_boolean_operation(pair: Pair<Rule>) -> Expression {\n",
    "    let mut inner = pair.into_inner();\n",
    "    let lhs = inner.next().unwrap();\n",
    "    let op = inner.next().unwrap();\n",
    "    let rhs = inner.next().unwrap();\n",
    "    let lhs = match lhs.as_rule() {\n",
    "        Rule::rvalue => as_literal(lhs),\n",
    "        Rule::boolean_expression => as_boolean_expression(lhs),\n",
    "        _ => unreachable!(),\n",
    "    };\n",
    "    let rhs = match rhs.as_rule() {\n",
    "        Rule::rvalue => as_literal(rhs),\n",
    "        Rule::boolean_expression => as_boolean_expression(rhs),\n",
    "        _ => unreachable!(),\n",
    "    };\n",
    "    match op.as_rule() {\n",
    "        Rule::and => Expression::LogicOp(Box::new(LogicOp::And(lhs, rhs))),\n",
    "        Rule::or => Expression::LogicOp(Box::new(LogicOp::Or(lhs, rhs))),\n",
    "        _ => unreachable!(),\n",
    "    }\n",
    "}\n",
    "\n",
    "fn as_boolean_expression(pair: Pair<Rule>) -> Expression {\n",
    "    let mut inner = pair.into_inner();\n",
    "    let lhs = as_literal(inner.next().unwrap());\n",
    "    let comparison = inner.next().unwrap();\n",
    "    let rhs = as_literal(inner.next().unwrap());\n",
    "    as_comparison(lhs, rhs, comparison)\n",
    "}\n",
    "\n",
    "fn as_comparison(lhs: Expression, rhs: Expression, pair: Pair<Rule>) -> Expression {\n",
    "    match pair.into_inner().next().unwrap().as_rule() {\n",
    "        Rule::smaller_than => Expression::Comparison(Box::new(Comparison::Smaller(lhs, rhs))),\n",
    "        Rule::smaller_equals => {\n",
    "            Expression::Comparison(Box::new(Comparison::SmallerEquals(lhs, rhs)))\n",
    "        }\n",
    "        Rule::equals => Expression::Comparison(Box::new(Comparison::Equals(lhs, rhs))),\n",
    "        Rule::greater_equals => {\n",
    "            Expression::Comparison(Box::new(Comparison::GreaterEquals(lhs, rhs)))\n",
    "        }\n",
    "        Rule::greater_than => Expression::Comparison(Box::new(Comparison::Greater(lhs, rhs))),\n",
    "        _ => unreachable!(),\n",
    "    }\n",
    "}\n",
    "\n",
    "fn as_literal(pair: Pair<Rule>) -> Expression {\n",
    "    let inner = pair.into_inner().next().unwrap();\n",
    "    match inner.as_rule() {\n",
    "        Rule::boolean_literal => match inner.into_inner().next().unwrap().as_rule() {\n",
    "            Rule::true_literal => Expression::Atomic(Atomic::Bool(true)),\n",
    "            Rule::false_literal => Expression::Atomic(Atomic::Bool(false)),\n",
    "            _ => unreachable!(),\n",
    "        },\n",
    "        Rule::string_literal => {\n",
    "            let inner = inner.into_inner().nth(1).unwrap().as_str().to_string();\n",
    "            Expression::Atomic(Atomic::String(inner))\n",
    "        }\n",
    "        Rule::variable_name => Expression::Ident(inner.as_str().to_string()),\n",
    "        Rule::numeric_literal => {\n",
    "            Expression::Atomic(Atomic::Number(inner.as_str().trim().parse().unwrap()))\n",
    "        }\n",
    "        Rule::expression => as_expression(inner),\n",
    "        p => unreachable!(\"{:?}\", p),\n",
    "    }\n",
    "}\n",
    "\n",
    "fn get_literal(mut pair: Pairs<Rule>) -> Expression {\n",
    "    let element: Pair<Rule> = pair.next().unwrap();\n",
    "    match element.as_rule() {\n",
    "        Rule::numeric_literal => Expression::Atomic(Atomic::Number(\n",
    "            element.as_str().trim().parse::<f64>().unwrap(),\n",
    "        )),\n",
    "        Rule::variable_name => Expression::Ident(element.as_str().to_string()),\n",
    "        p => {\n",
    "            println!(\"{:?}\", p);\n",
    "            unreachable!()\n",
    "        }\n",
    "    }\n",
    "}\n"
   ]
  },
  {
   "cell_type": "markdown",
   "metadata": {},
   "source": [
    "Wir kommen nun nochmals zur Variable am Anfang zurück. Das Result haben wir bereits geparsed, jetzt wollen wir das `pest` Resultat in einen AST umwandeln. Führe folgenden Code aus.\n",
    "\n",
    "> Wir müssen ein paar mal `next()` und `unwrap()` aufrufen, um zum `body` unserer Grammatik zu kommen. Schau dir die Gramamtik (`ubpp.pest`) an und versuche zu verstehen, was für eine Regel bei jeder Zeile stehen sollte.\n",
    "\n"
   ]
  },
  {
   "cell_type": "code",
   "execution_count": 35,
   "metadata": {
    "vscode": {
     "languageId": "rust"
    }
   },
   "outputs": [
    {
     "name": "stdout",
     "output_type": "stream",
     "text": [
      "[\n",
      "    Statement(\n",
      "        VariableAssignment(\n",
      "            VariableAssignment {\n",
      "                new_definition: true,\n",
      "                ident: \"priimZahl\",\n",
      "                value: Input(\n",
      "                    Atomic(\n",
      "                        String(\n"
     ]
    },
    {
     "name": "stdout",
     "output_type": "stream",
     "text": [
      "                            \"Was füre Zahl wotsch teste?\",\n",
      "                        ),\n",
      "                    ),\n",
      "                ),\n",
      "            },\n",
      "        ),\n",
      "    ),\n",
      "]\n"
     ]
    }
   ],
   "source": [
    "// Für iterators müssen wir unser Resultat mutably definieren\n",
    "// Wir shadowen nehmen Ownership und deklarieren die neue Version als mutable.\n",
    "let mut parse_result = parse_result;\n",
    "let parse_result = parse_result.next()\n",
    "                        .unwrap()\n",
    "                        .into_inner()\n",
    "                        .next()\n",
    "                        .unwrap();\n",
    "let tokens = parse_body(parse_result);\n",
    "println!(\"{:#?}\", tokens);"
   ]
  },
  {
   "cell_type": "markdown",
   "metadata": {},
   "source": [
    "## AST evaluieren (Step3)"
   ]
  },
  {
   "cell_type": "markdown",
   "metadata": {},
   "source": [
    "### Results\n",
    "\n",
    "Wir haben bereits `Option<T>` angeschaut. Für diesen Typen war die Argumentation, dass ein Wert da sein kann, oder eben nicht (was in vielen Sprachen durch nullability ausgedrückt wird). Was aber wenn eigentlich immer ein Wert da sein soll, ausser es ist ein Fehler passiert?\n",
    "\n",
    "Dafür gibt es in Rust den `Result<T,E>` Typen, der im Wesentlichen so wie folgt definiert werden kann:\n",
    "\n",
    "```rust\n",
    "enum Result<T,E> {\n",
    "    Ok(T),\n",
    "    Err(E)\n",
    "}\n",
    "```\n",
    "\n",
    "Dies bedeutet, dass man im Erfolgsfall den Typen `T` als `Ok` Wert zurückgibt, und falls etwas schief läuft, mit `Err` den Typen `E` zurückgeben kann. Der Typ `E` kann im Prinzip irgendein Typ sein, wobei es allerdings einen `Error`-Trait gibt, der bestimmte Vorteile bringt. Für uns ist das vorerst nicht wirklich von Interesse und wir werden im Normalfall einfachheitshalber mit einem `String` als Fehler-Typen arbeiten.\n",
    "\n",
    "Wie auch für `Option<T>` sind verschiedene Funktionen aus der Standardbibliothek verfügbar. Zusätzlich zu den bekannten, gibt es noch die enstprechenden Funktionen um den `Error` Typen zu modifizieren.\n",
    "\n",
    "Das Resultat oder den Fehler können wir mit dem Pattern-Matching erreichen, oder mit dem bekannten `unwrap()` oder `unwrap_err()`.\n",
    "\n",
    "### Bubbling\n",
    "\n",
    "Wenn eine Funktion den gleichen Error Typen im Result-Fall oder den gleichen Option Typ verwendet, wie die Funktion, die aufgerufen wird, kann man einfachheitshalber mit dem `?`-Operator den Fehler (oder das Fehlen) nach oben \"bubbeln\". Dies bedeutet, wir müssen den Non-Happy-Case nicht explizit in der Funktion handeln, sondern überlassen das Fehlerhandling der Parent-Funktion. Dies vereinfacht das Lesen des Codes und erlaubt es uns, das Fehlerhandling zentral zu erledigen. Dies ist insbesondere für Bibliotheken von Interesse, da wir vielleicht das Fehler-Handling der Applikation überlassen wollen."
   ]
  },
  {
   "cell_type": "code",
   "execution_count": 49,
   "metadata": {
    "vscode": {
     "languageId": "rust"
    }
   },
   "outputs": [
    {
     "name": "stdout",
     "output_type": "stream",
     "text": [
      "false\n"
     ]
    },
    {
     "data": {
      "text/plain": [
       "()"
      ]
     },
     "execution_count": 49,
     "metadata": {},
     "output_type": "execute_result"
    }
   ],
   "source": [
    "fn can_fail() -> Result<bool, String> {\n",
    "    let test_string = deeper_fail(\"test\")?;\n",
    "    Ok(test_string == \"test\")\n",
    "}\n",
    "\n",
    "// Der Error-Typ (sprich der String) ist gleich wie bei `can_fail`.\n",
    "fn deeper_fail(t : &str) -> Result<String, String> {\n",
    "    if t == \"test\" {\n",
    "        Ok(String::from(\"true\"))\n",
    "    } else {\n",
    "        Err(String::from(\"Ohoh ein Fehler\"))\n",
    "    }\n",
    "}\n",
    "\n",
    "match can_fail() {\n",
    "    Ok(bool) => println!(\"{}\", bool),\n",
    "    Err(err_string) => println!(\"Ein Fehler ist passiert: {}\", err_string)\n",
    "}"
   ]
  },
  {
   "cell_type": "markdown",
   "metadata": {},
   "source": [
    "### Klassenmethoden\n",
    "\n",
    "In Rust werden Methoden von Structs nicht in der Struct-Definition definiert. Sie können sogar in einem beliebigen Kontext hinzugefügt werden (solange der Typ im gleichen Crate definiert wird). Dafür benutzt man den `impl Structname` Syntax. \n",
    "\n",
    "Ähnlich zu Python kann als erstes Argument `self` in einer der drei Varianten stehen (`self`, `&self`, `&mut self`), was die Funktion zu einer \"Instanz-Funktion\" macht. Die Funktion kann via desugaring als `struct_instance.function()` aufgerufen werden, was aber im Prinzip nur `Struct::function(&struct_instance)` (resp. dem entsprechenden `self` Argument) entspricht.\n",
    "\n",
    "Innerhalb des `impl` Blocks, kann man auf das Keyword `Self` (man beachte das grosse `S`) zurückgreifen, was einfach zum Namen der Struct desugared. Dies ist insofern sinnvoll, als dass Refactorings der Struct einfacher werden können, sollte man keinen Language-Server-Support haben. Weiter drückt es unmissverständlich aus, dass eine Instanz von der Struct, für die der `impl`-Block steht, erzeugt wird. Am Ende ist dies aber natürlich eine Stil-Frage."
   ]
  },
  {
   "cell_type": "code",
   "execution_count": 56,
   "metadata": {
    "vscode": {
     "languageId": "rust"
    }
   },
   "outputs": [
    {
     "ename": "Error",
     "evalue": "cannot borrow `something_special` as mutable, as it is not declared as mutable",
     "output_type": "error",
     "traceback": [
      "something_special.increase();",
      "^^^^^^^^^^^^^^^^^^^^^^^^^^^^ cannot borrow as mutable",
      "cannot borrow `something_special` as mutable, as it is not declared as mutable",
      "help: consider changing this to be mutable\n\nmut something_special"
     ]
    },
    {
     "ename": "Error",
     "evalue": "borrow of moved value: `something_special`",
     "output_type": "error",
     "traceback": [
      "something_special.increase_consuming().increase_consuming().increase_consuming();",
      "                  ^^^^^^^^^^^^^^^^^^^^ `something_special` moved due to this method call",
      "println!(\"{}\", something_special.get_element());",
      "               ^^^^^^^^^^^^^^^^^^^^^^^^^^^^^^^ value borrowed here after move",
      "let something_special = SomethingSpecial::new(0);",
      "    ^^^^^^^^^^^^^^^^^ move occurs because `something_special` has type `SomethingSpecial`, which does not implement the `Copy` trait",
      "borrow of moved value: `something_special`"
     ]
    }
   ],
   "source": [
    "struct SomethingSpecial {\n",
    "    element: i32\n",
    "}\n",
    "impl SomethingSpecial {\n",
    "    // dies ist eine statische Funktion\n",
    "    pub fn new(element: i32) -> Self {\n",
    "        // whooooooa whats happening here?\n",
    "        // Wir benutzen den Struct-Constructor (wie schon gezeigt), aber weil unser Argument\n",
    "        // der Funktion `new` gleich heisst, wie das Feld, können wir das in der \n",
    "        // abgekürzten Form schreiben\n",
    "        // \n",
    "        // Weiter verwenden wir überall wo wir `SomethingSpecial` schreiben könnten `Self`\n",
    "        Self {\n",
    "            element\n",
    "        }\n",
    "    }\n",
    "\n",
    "    // wollen wir Daten in  der Struct ändern, brauchen wir eine mutable Reference....\n",
    "    pub fn increase(&mut self) {\n",
    "        self.element += 1;\n",
    "    }\n",
    "\n",
    "    //... oder eine owning Funktion\n",
    "    // vorsicht hier, ohne den return, würde `self` consumed (es kann immer nur jemand Ownership von einem Objekt haben)\n",
    "    pub fn increase_consuming(mut self) -> Self {\n",
    "        self.element += 1;\n",
    "        self\n",
    "    }\n",
    "    // ohne getter und ohne `pub` Keyword in der Struct ist unser Feld nur innerhalb des gleichen Moduls\n",
    "    // accessable.\n",
    "    pub fn get_element(&self) -> i32 {\n",
    "        self.element\n",
    "    }\n",
    "\n",
    "}\n",
    "\n",
    "let something_special = SomethingSpecial::new(0);\n",
    "// warum geht das nicht?\n",
    "something_special.increase();\n",
    "// hier wird something_special consumed\n",
    "something_special.increase_consuming().increase_consuming().increase_consuming();\n",
    "// wie gross ist jetzt element?\n",
    "println!(\"{}\", something_special.get_element());"
   ]
  },
  {
   "cell_type": "markdown",
   "metadata": {},
   "source": [
    "Wir sind nun bereit, uns den Code für die Implementierung auf der Expression anzuschauen. Wir benutzen Klassen-Methoden um eine Expression als Atomic-Datentypen zu evaluieren. Da dies aber potenziel nicht funktionieren kann (zum Beispiel wenn wir versuchen eine nicht Atomic Expression zu casten), geben wir ein Result zurück.\n",
    "\n",
    "In unserer Sprache wollen wir so flexibel wie möglich sein was Daten-Typen anbelangt, und implementieren entsprechend für alle Atomics einen Cast zu allen anderen Atomic-Datatypes.\n",
    "\n",
    "So kann in einem if-Block z.b. \"false\" benutzt werden, weil \"false\" als Boolean Typ geparsed wird.\n",
    "\n",
    "Der einfachheitshalber benutzen wir nur einen einzigen globalen Scope um Variabeln zu referenzieren. Dies führt in bestimmten Fällen zu verwirrenden Situationen, wenn Variabeln mit dem gleichen Namen in Strukturen wie Loops, oder Conditionals evaluiert werden. Wir als gewissenhafte Programmierer brauchen aber hier keine Hilfe, weil wir immer sinnvolle und verschiedene Variabelnnamen benutzten ;)"
   ]
  },
  {
   "cell_type": "code",
   "execution_count": 74,
   "metadata": {
    "vscode": {
     "languageId": "rust"
    }
   },
   "outputs": [
    {
     "ename": "Error",
     "evalue": "the usage of Script Group `Greek` in this crate consists solely of mixed script confusables",
     "output_type": "error",
     "traceback": [
      "",
      "the usage of Script Group `Greek` in this crate consists solely of mixed script confusables"
     ]
    },
    {
     "ename": "Error",
     "evalue": "duplicate definitions with name `as_bool`",
     "output_type": "error",
     "traceback": [
      "    fn as_bool(&self, global_scope: &mut HashMap<String, Expression>) -> Result<bool, String> {",
      "    ^^^^^^^^^^^^^^^^^^^^^^^^^^^^^^^^^^^^^^^^^^^^^^^^^^^^^^^^^^^^^^^^^^^^^^^^^^^^^^^^^^^^^^^^^ other definition for `as_bool`",
      "duplicate definitions with name `as_bool`"
     ]
    },
    {
     "ename": "Error",
     "evalue": "duplicate definitions with name `as_string`",
     "output_type": "error",
     "traceback": [
      "    fn as_string(&self, global_scope: &mut HashMap<String, Expression>) -> Result<String, String> {",
      "    ^^^^^^^^^^^^^^^^^^^^^^^^^^^^^^^^^^^^^^^^^^^^^^^^^^^^^^^^^^^^^^^^^^^^^^^^^^^^^^^^^^^^^^^^^^^^^ other definition for `as_string`",
      "duplicate definitions with name `as_string`"
     ]
    },
    {
     "ename": "Error",
     "evalue": "duplicate definitions with name `as_num`",
     "output_type": "error",
     "traceback": [
      "    fn as_num(&self, global_scope: &mut HashMap<String, Expression>) -> Result<f64, String> {",
      "    ^^^^^^^^^^^^^^^^^^^^^^^^^^^^^^^^^^^^^^^^^^^^^^^^^^^^^^^^^^^^^^^^^^^^^^^^^^^^^^^^^^^^^^^ other definition for `as_num`",
      "duplicate definitions with name `as_num`"
     ]
    }
   ],
   "source": [
    "impl Expression {\n",
    "    fn as_bool(&self, global_scope: &mut HashMap<String, Expression>) -> Result<bool, String> {\n",
    "        let inner = eval_expression(self, global_scope)?;\n",
    "        match inner {\n",
    "            Atomic::String(s) => Ok(s.parse().map_err(|e| format!(\"{:?}\", e))?),\n",
    "            Atomic::Number(i) => Ok(i == 0.0),\n",
    "            Atomic::Bool(b) => Ok(b),\n",
    "            Atomic::Null => Ok(false),\n",
    "            Atomic::Interrupt => unreachable!(),\n",
    "        }\n",
    "    }\n",
    "    fn as_string(&self, global_scope: &mut HashMap<String, Expression>) -> Result<String, String> {\n",
    "        let inner = eval_expression(self, global_scope)?;\n",
    "        match inner {\n",
    "            Atomic::String(s) => Ok(s),\n",
    "            Atomic::Number(i) => Ok(i.to_string()),\n",
    "            Atomic::Bool(b) => Ok(b.to_string()),\n",
    "            Atomic::Null => Ok(\"null\".to_string()),\n",
    "            Atomic::Interrupt => unreachable!(),\n",
    "        }\n",
    "    }\n",
    "    fn as_num(&self, global_scope: &mut HashMap<String, Expression>) -> Result<f64, String> {\n",
    "        let inner = eval_expression(self, global_scope)?;\n",
    "        match inner {\n",
    "            Atomic::String(s) => Ok(s.trim().parse().map_err(|e| format!(\"{:?}\", e))?),\n",
    "            Atomic::Number(i) => Ok(i),\n",
    "            Atomic::Bool(b) => Ok(b as i32 as f64),\n",
    "            Atomic::Null => Ok(0.0),\n",
    "            Atomic::Interrupt => unreachable!(),\n",
    "        }\n",
    "    }\n",
    "}"
   ]
  },
  {
   "cell_type": "markdown",
   "metadata": {},
   "source": [
    "Wir verwenden für das evaluieren der Tokens einen ähnlichen Ansatz, wie beim erstellen des ASTs. Wir benutzen eine Schleife über alle Tokens und führen sie der Reihenfolge entsprechend aus.\n",
    "\n",
    "Wir verwenden den Typen `&[Token]`, um alle Referenzen die als Array (Slice) gecasted werden können zu unterstützen. So müssen wir uns z.B. nicht auf `&Vec<T>` einschränken, sondern unterstützen sämtliche Typen, die `AsRef<[Token]>` implementieren."
   ]
  },
  {
   "cell_type": "code",
   "execution_count": null,
   "metadata": {
    "vscode": {
     "languageId": "rust"
    }
   },
   "outputs": [],
   "source": [
    "pub fn eval_tokens(\n",
    "    tokens: &[Token],\n",
    "    global_scope: &mut HashMap<String, Expression>,\n",
    ") -> Result<Atomic, String> {\n",
    "    let mut last_expression = Atomic::Null;\n",
    "    for token in tokens {\n",
    "        match token {\n",
    "            Token::Expression(e) => {\n",
    "                last_expression = eval_expression(e, global_scope)?;\n",
    "                // wir verwenden hier ein Macro um den Match einfacher lesbar zumachen\n",
    "                // Dies desugared zu einem einfachen let Statement.\n",
    "                if matches!(last_expression, Atomic::Interrupt) {\n",
    "                    return Ok(last_expression);\n",
    "                }\n",
    "            }\n",
    "            Token::Statement(stmt) => {\n",
    "                let is_interrupt = eval_statement(stmt, global_scope)?;\n",
    "                if matches!(is_interrupt, Atomic::Interrupt) {\n",
    "                    return Ok(is_interrupt);\n",
    "                }\n",
    "            }\n",
    "            Token::Break => {\n",
    "                return Ok(Atomic::Interrupt);\n",
    "            },\n",
    "            Token::Return => return Ok(Atomic::Interrupt),\n",
    "        }\n",
    "    }\n",
    "    Ok(last_expression)\n",
    "}"
   ]
  },
  {
   "cell_type": "markdown",
   "metadata": {},
   "source": [
    "Der Aufbau hier ist wieder sehr ähnlich zum Step2. Wir versuchen immer spezifischere Funktionen anzubieten, um ein Rekursives evaluieren vom AST zu ermöglichen. Darum schauen wir uns jeweils nur ein Beispiel von `eval_statement` und `eval_expression` genauer an.\n",
    "\n",
    "### Borrowing\n",
    "\n",
    "Das erste Beispiel, das wir anschauen ist `eval_assignment`. Wir wollen sicherstellen, dass eine Variable nicht zweimal definiert werden kann. Dafür nutzen wir die Funktion `contains_key` der HashMap. Weil wir nun auf den Value innerhalb von `assignment` zugreifen wollen, müssen wir schauen, dass wir den Wert nicht im falschen \"Modus\" benutzen. Da wir hier `assignment` nur leihen, können wir nichts anderes machen, als alle Felder innerhalb von `assignment` ebenfalls zu leihen.\n",
    "\n",
    "Darum müssen wir zwingend `&assignment.ident` verwenden, abgesehen davon, dass `contains_key` sowieso einen Borrow will.\n",
    "\n",
    "Falls also unser Variablenassignment, gemäss unserer Grammatik, eine neue Definition darstellt, vergewissern wir uns, dass die entsprechende Variable noch __nicht__ definiert wurde.\n",
    "\n",
    "Ansonsten nutzen wir die `insert` Funktion, die den Wert einfügt oder updated (also eigentlich `upsert`).\n",
    "\n",
    "Falls alles klappt, signalisieren wir dies mit `Ok(())`, wobei `()` der sogenannte `Unit`-Typ ist, und in etwa equivalent zum C-Type `void`."
   ]
  },
  {
   "cell_type": "code",
   "execution_count": null,
   "metadata": {
    "vscode": {
     "languageId": "rust"
    }
   },
   "outputs": [],
   "source": [
    "fn eval_assignment(\n",
    "    assignment: &VariableAssignment,\n",
    "    global_scope: &mut HashMap<String, Expression>,\n",
    ") -> Result<(), String> {\n",
    "    if assignment.new_definition && global_scope.contains_key(&assignment.ident) {\n",
    "        return Err(format!(\"`{}` already defined\", assignment.ident));\n",
    "    } else {\n",
    "        let result = eval_expression(&assignment.value, global_scope)?;\n",
    "        global_scope.insert(assignment.ident.to_string(), Expression::Atomic(result));\n",
    "    }\n",
    "    Ok(())\n",
    "}"
   ]
  },
  {
   "cell_type": "markdown",
   "metadata": {},
   "source": [
    "Als Beispiel für die Evaluierung einer Expression, schauen wir uns die Evaluierung einer binären Operation, als einer Operation mit zwei Operanden, an. Wie so oft in den anderen Beispielen, sehen wir auch hier ein Pattern-Matching. Im Falle der binären Operation haben wir den Struct-Enum-Variant benutzt, der sich hier nun wieder zeigt.\n",
    "\n",
    "Das Matching hier sieht vorerst genau gleich aus, wie bei den Tuple-Varianten, ausser, dass, anstelle von `()` `{}` stehen um auf die inneren Elemente des Enum-Variant zuzugreifen. Dies wird aber einfach vom Fakt überdeckt, dass man auch beim Pattern-Matching auf den Struct-Shorthand zurückgreifen kann. Eigentlich würde das Struct-Matching wie folgt aussehen:\n",
    "\n",
    "```rust\n",
    "match num_op {\n",
    "    BinaryOp::Plus {left: left, right: right} => {...}\n",
    "}\n",
    "```\n",
    "\n",
    "Dies zeigt uns einen der Vorteile der Struct-Enum-Variant: die Argumente sind benannt!"
   ]
  },
  {
   "cell_type": "code",
   "execution_count": null,
   "metadata": {
    "vscode": {
     "languageId": "rust"
    }
   },
   "outputs": [],
   "source": [
    "fn eval_binary_op(\n",
    "    num_op: &BinaryOp,\n",
    "    global_scope: &mut HashMap<String, Expression>,\n",
    ") -> Result<Atomic, String> {\n",
    "    match num_op {\n",
    "        BinaryOp::Plus { left, right } => {\n",
    "            let left = left.as_num(global_scope)?;\n",
    "            let right = right.as_num(global_scope)?;\n",
    "            Ok(Atomic::Number(left + right))\n",
    "        }\n",
    "        BinaryOp::Minus { left, right } => {\n",
    "            let left = left.as_num(global_scope)?;\n",
    "            let right = right.as_num(global_scope)?;\n",
    "            Ok(Atomic::Number(left - right))\n",
    "        }\n",
    "        BinaryOp::Mul { left, right } => {\n",
    "            let left = left.as_num(global_scope)?;\n",
    "            let right = right.as_num(global_scope)?;\n",
    "            Ok(Atomic::Number(left * right))\n",
    "        }\n",
    "        BinaryOp::Div { left, right } => {\n",
    "            let left = left.as_num(global_scope)?;\n",
    "            let right = right.as_num(global_scope)?;\n",
    "            Ok(Atomic::Number(left / right))\n",
    "        }\n",
    "        BinaryOp::Mod { left, right } => {\n",
    "            let left = left.as_num(global_scope)?;\n",
    "            let right = right.as_num(global_scope)?;\n",
    "            Ok(Atomic::Number(left % right))\n",
    "        }\n",
    "        BinaryOp::Pow { left, right } => {\n",
    "            let left = left.as_num(global_scope)?;\n",
    "            let right = right.as_num(global_scope)?;\n",
    "            Ok(Atomic::Number(left.powf(right)))\n",
    "        }\n",
    "        BinaryOp::None => unreachable!(),\n",
    "    }\n",
    "}"
   ]
  },
  {
   "cell_type": "markdown",
   "metadata": {},
   "source": [
    "Im folgenden Listing ist nun der gesammte evaluierungs Code. Schaue nochmals durch ob du alles verstehst und führe ihn anschliessend aus:"
   ]
  },
  {
   "cell_type": "code",
   "execution_count": 76,
   "metadata": {
    "vscode": {
     "languageId": "rust"
    }
   },
   "outputs": [
    {
     "ename": "Error",
     "evalue": "the usage of Script Group `Greek` in this crate consists solely of mixed script confusables",
     "output_type": "error",
     "traceback": [
      "",
      "the usage of Script Group `Greek` in this crate consists solely of mixed script confusables"
     ]
    },
    {
     "ename": "Error",
     "evalue": "duplicate definitions with name `as_bool`",
     "output_type": "error",
     "traceback": [
      "    fn as_bool(&self, global_scope: &mut HashMap<String, Expression>) -> Result<bool, String> {",
      "    ^^^^^^^^^^^^^^^^^^^^^^^^^^^^^^^^^^^^^^^^^^^^^^^^^^^^^^^^^^^^^^^^^^^^^^^^^^^^^^^^^^^^^^^^^ other definition for `as_bool`",
      "duplicate definitions with name `as_bool`"
     ]
    },
    {
     "ename": "Error",
     "evalue": "duplicate definitions with name `as_string`",
     "output_type": "error",
     "traceback": [
      "    fn as_string(&self, global_scope: &mut HashMap<String, Expression>) -> Result<String, String> {",
      "    ^^^^^^^^^^^^^^^^^^^^^^^^^^^^^^^^^^^^^^^^^^^^^^^^^^^^^^^^^^^^^^^^^^^^^^^^^^^^^^^^^^^^^^^^^^^^^ other definition for `as_string`",
      "duplicate definitions with name `as_string`"
     ]
    },
    {
     "ename": "Error",
     "evalue": "duplicate definitions with name `as_num`",
     "output_type": "error",
     "traceback": [
      "    fn as_num(&self, global_scope: &mut HashMap<String, Expression>) -> Result<f64, String> {",
      "    ^^^^^^^^^^^^^^^^^^^^^^^^^^^^^^^^^^^^^^^^^^^^^^^^^^^^^^^^^^^^^^^^^^^^^^^^^^^^^^^^^^^^^^^ other definition for `as_num`",
      "duplicate definitions with name `as_num`"
     ]
    }
   ],
   "source": [
    "use std::{collections::HashMap, io::stdin};\n",
    "\n",
    "impl Expression {\n",
    "    fn as_bool(&self, global_scope: &mut HashMap<String, Expression>) -> Result<bool, String> {\n",
    "        let inner = eval_expression(self, global_scope)?;\n",
    "        match inner {\n",
    "            Atomic::String(s) => Ok(s.parse().map_err(|e| format!(\"{:?}\", e))?),\n",
    "            Atomic::Number(i) => Ok(i == 0.0),\n",
    "            Atomic::Bool(b) => Ok(b),\n",
    "            Atomic::Null => Ok(false),\n",
    "            Atomic::Interrupt => unreachable!(),\n",
    "        }\n",
    "    }\n",
    "    fn as_string(&self, global_scope: &mut HashMap<String, Expression>) -> Result<String, String> {\n",
    "        let inner = eval_expression(self, global_scope)?;\n",
    "        match inner {\n",
    "            Atomic::String(s) => Ok(s),\n",
    "            Atomic::Number(i) => Ok(i.to_string()),\n",
    "            Atomic::Bool(b) => Ok(b.to_string()),\n",
    "            Atomic::Null => Ok(\"null\".to_string()),\n",
    "            Atomic::Interrupt => unreachable!(),\n",
    "        }\n",
    "    }\n",
    "    fn as_num(&self, global_scope: &mut HashMap<String, Expression>) -> Result<f64, String> {\n",
    "        let inner = eval_expression(self, global_scope)?;\n",
    "        match inner {\n",
    "            Atomic::String(s) => Ok(s.trim().parse().map_err(|e| format!(\"{:?}\", e))?),\n",
    "            Atomic::Number(i) => Ok(i),\n",
    "            Atomic::Bool(b) => Ok(b as i32 as f64),\n",
    "            Atomic::Null => Ok(0.0),\n",
    "            Atomic::Interrupt => unreachable!(),\n",
    "        }\n",
    "    }\n",
    "}\n",
    "\n",
    "pub fn eval_tokens(\n",
    "    tokens: &[Token],\n",
    "    global_scope: &mut HashMap<String, Expression>,\n",
    ") -> Result<Atomic, String> {\n",
    "    let mut last_expression = Atomic::Null;\n",
    "    for token in tokens {\n",
    "        match token {\n",
    "            Token::Expression(e) => {\n",
    "                last_expression = eval_expression(e, global_scope)?;\n",
    "                if matches!(last_expression, Atomic::Interrupt) {\n",
    "                    return Ok(last_expression);\n",
    "                }\n",
    "            }\n",
    "            Token::Statement(stmt) => {\n",
    "                let is_interrupt = eval_statement(stmt, global_scope)?;\n",
    "                if matches!(is_interrupt, Atomic::Interrupt) {\n",
    "                    return Ok(is_interrupt);\n",
    "                }\n",
    "            }\n",
    "            Token::Break => {\n",
    "                return Ok(Atomic::Interrupt);\n",
    "            },\n",
    "            Token::Return => return Ok(Atomic::Interrupt),\n",
    "        }\n",
    "    }\n",
    "    Ok(last_expression)\n",
    "}\n",
    "\n",
    "fn eval_statement(\n",
    "    stmt: &Statement,\n",
    "    global_scope: &mut HashMap<String, Expression>,\n",
    ") -> Result<Atomic, String> {\n",
    "    match stmt {\n",
    "        Statement::VariableAssignment(assignment) => {\n",
    "            eval_assignment(assignment, global_scope)?;\n",
    "            Ok(Atomic::Null)\n",
    "        }\n",
    "        Statement::Conditional(c) => eval_conditional(c, global_scope),\n",
    "        Statement::Expression(e) => {\n",
    "            let token = eval_expression(e, global_scope)?;\n",
    "            Ok(token)\n",
    "        }\n",
    "        Statement::Print(expression) => {\n",
    "            let result = eval_expression(expression, global_scope)?;\n",
    "            // Wir haben nur debug derived... wie können wir wohl display implementieren?\n",
    "            // println!(\"{:?}\", result);\n",
    "            println!(\"{}\", result);\n",
    "            Ok(result)\n",
    "        }\n",
    "        Statement::Loop(loop_statement) => eval_loop(loop_statement, global_scope),\n",
    "    }\n",
    "}\n",
    "\n",
    "fn eval_loop(\n",
    "    loop_statement: &Loop,\n",
    "    global_scope: &mut HashMap<String, Expression>,\n",
    ") -> Result<Atomic, String> {\n",
    "    let mut condition = loop_statement.condition.as_bool(global_scope)?;\n",
    "    while condition {\n",
    "        let token = eval_tokens(&loop_statement.body, global_scope)?;\n",
    "        if matches!(token, Atomic::Interrupt) {\n",
    "            return Ok(Atomic::Null);\n",
    "        }\n",
    "        condition = loop_statement.condition.as_bool(global_scope)?;\n",
    "    }\n",
    "    Ok(Atomic::Null)\n",
    "}\n",
    "\n",
    "fn eval_conditional(\n",
    "    conditional: &Conditional,\n",
    "    global_scope: &mut HashMap<String, Expression>,\n",
    ") -> Result<Atomic, String> {\n",
    "    let condition = conditional.condition.as_bool(global_scope)?;\n",
    "    if condition {\n",
    "        let token = eval_tokens(&conditional.body, global_scope)?;\n",
    "        Ok(token)\n",
    "    } else if let Some(tokens) = conditional.else_body.as_ref() {\n",
    "        let token = eval_tokens(tokens, global_scope)?;\n",
    "        Ok(token)\n",
    "    } else {\n",
    "        Ok(Atomic::Null)\n",
    "    }\n",
    "}\n",
    "\n",
    "fn eval_assignment(\n",
    "    assignment: &VariableAssignment,\n",
    "    global_scope: &mut HashMap<String, Expression>,\n",
    ") -> Result<(), String> {\n",
    "    if assignment.new_definition && global_scope.contains_key(&assignment.ident) {\n",
    "        return Err(format!(\"`{}` already defined\", assignment.ident));\n",
    "    } else {\n",
    "        let result = eval_expression(&assignment.value, global_scope)?;\n",
    "        global_scope.insert(assignment.ident.to_string(), Expression::Atomic(result));\n",
    "    }\n",
    "    Ok(())\n",
    "}\n",
    "\n",
    "fn eval_expression(\n",
    "    e: &Expression,\n",
    "    global_scope: &mut HashMap<String, Expression>,\n",
    ") -> Result<Atomic, String> {\n",
    "    match e {\n",
    "        Expression::Atomic(atomic) => Ok(atomic.to_owned()),\n",
    "        Expression::Ident(ident) => {\n",
    "            let ident_expression = if let Some(expr) = global_scope.get(ident) {\n",
    "                expr.clone()\n",
    "            } else {\n",
    "                return Err(format!(\"[ERROR] `{}` not defined!\", ident));\n",
    "            };\n",
    "            eval_expression(&ident_expression, global_scope)\n",
    "        }\n",
    "        Expression::Input(expression) => {\n",
    "            let mut s = String::new();\n",
    "            println!(\"{}\", expression.as_string(global_scope)?);\n",
    "            stdin().read_line(&mut s).map_err(|e| format!(\"{:?}\", e))?;\n",
    "            Ok(Atomic::String(s))\n",
    "        }\n",
    "        Expression::LogicOp(logic_operation) => eval_logic_op(logic_operation, global_scope),\n",
    "        Expression::Comparison(comparison) => eval_comparison(comparison, global_scope),\n",
    "        Expression::BinaryOp(num_op) => eval_binary_op(num_op, global_scope),\n",
    "        Expression::Conditional(conditional) => {\n",
    "            eval_conditional_expression(conditional, global_scope)\n",
    "        }\n",
    "        Expression::Cast(cast) => match cast.as_ref() {\n",
    "            Cast::String(expr) => {\n",
    "                let result = expr.as_string(global_scope)?;\n",
    "                Ok(Atomic::String(result))\n",
    "            }\n",
    "            Cast::Int(expr) => {\n",
    "                let result = expr.as_num(global_scope)?;\n",
    "                Ok(Atomic::Number(result))\n",
    "            }\n",
    "            Cast::Bool(expr) => {\n",
    "                let result = expr.as_bool(global_scope)?;\n",
    "                Ok(Atomic::Bool(result))\n",
    "            }\n",
    "        },\n",
    "    }\n",
    "}\n",
    "\n",
    "fn eval_conditional_expression(\n",
    "    conditional: &ConditionalExpression,\n",
    "    global_scope: &mut HashMap<String, Expression>,\n",
    ") -> Result<Atomic, String> {\n",
    "    let condition = conditional.condition.as_bool(global_scope)?;\n",
    "    if condition {\n",
    "        let _ = eval_tokens(&conditional.body, global_scope);\n",
    "        eval_expression(&conditional.body_expression, global_scope)\n",
    "    } else {\n",
    "        let _ = eval_tokens(&conditional.else_body, global_scope);\n",
    "        eval_expression(&conditional.else_body_expression, global_scope)\n",
    "    }\n",
    "}\n",
    "\n",
    "fn eval_logic_op(\n",
    "    logic_operation: &LogicOp,\n",
    "    global_scope: &mut HashMap<String, Expression>,\n",
    ") -> Result<Atomic, String> {\n",
    "    match logic_operation {\n",
    "        LogicOp::And(lhs, rhs) => {\n",
    "            let lhs = lhs.as_bool(global_scope)?;\n",
    "            let rhs = rhs.as_bool(global_scope)?;\n",
    "            Ok(Atomic::Bool(lhs && rhs))\n",
    "        }\n",
    "        LogicOp::Or(lhs, rhs) => {\n",
    "            let lhs = lhs.as_bool(global_scope)?;\n",
    "            let rhs = rhs.as_bool(global_scope)?;\n",
    "            Ok(Atomic::Bool(lhs || rhs))\n",
    "        }\n",
    "    }\n",
    "}\n",
    "\n",
    "fn eval_comparison(\n",
    "    comparison: &Comparison,\n",
    "    global_scope: &mut HashMap<String, Expression>,\n",
    ") -> Result<Atomic, String> {\n",
    "    match comparison {\n",
    "        Comparison::Smaller(lhs, rhs) => {\n",
    "            if let (Ok(l), Ok(r)) = (lhs.as_num(global_scope), rhs.as_num(global_scope)) {\n",
    "                Ok(Atomic::Bool(l < r))\n",
    "            } else if let (Ok(l), Ok(r)) =\n",
    "                (lhs.as_string(global_scope), rhs.as_string(global_scope))\n",
    "            {\n",
    "                Ok(Atomic::Bool(l < r))\n",
    "            } else {\n",
    "                Err(format!(\"Invalid operands to comparison ({:?})\", comparison))\n",
    "            }\n",
    "        }\n",
    "        Comparison::SmallerEquals(lhs, rhs) => {\n",
    "            if let (Ok(l), Ok(r)) = (lhs.as_num(global_scope), rhs.as_num(global_scope)) {\n",
    "                Ok(Atomic::Bool(l <= r))\n",
    "            } else if let (Ok(l), Ok(r)) =\n",
    "                (lhs.as_string(global_scope), rhs.as_string(global_scope))\n",
    "            {\n",
    "                Ok(Atomic::Bool(l <= r))\n",
    "            } else {\n",
    "                Err(\"Invalid operands to comparison\".to_string())\n",
    "            }\n",
    "        }\n",
    "        Comparison::Equals(lhs, rhs) => {\n",
    "            if let (Ok(l), Ok(r)) = (lhs.as_num(global_scope), rhs.as_num(global_scope)) {\n",
    "                Ok(Atomic::Bool(l == r))\n",
    "            } else if let (Ok(l), Ok(r)) =\n",
    "                (lhs.as_string(global_scope), rhs.as_string(global_scope))\n",
    "            {\n",
    "                Ok(Atomic::Bool(l == r))\n",
    "            } else {\n",
    "                Err(\"Invalid operands to comparison\".to_string())\n",
    "            }\n",
    "        }\n",
    "        Comparison::Greater(lhs, rhs) => {\n",
    "            if let (Ok(l), Ok(r)) = (lhs.as_num(global_scope), rhs.as_num(global_scope)) {\n",
    "                Ok(Atomic::Bool(l > r))\n",
    "            } else if let (Ok(l), Ok(r)) =\n",
    "                (lhs.as_string(global_scope), rhs.as_string(global_scope))\n",
    "            {\n",
    "                Ok(Atomic::Bool(l > r))\n",
    "            } else {\n",
    "                Err(\"Invalid operands to comparison\".to_string())\n",
    "            }\n",
    "        }\n",
    "        Comparison::GreaterEquals(lhs, rhs) => {\n",
    "            if let (Ok(l), Ok(r)) = (lhs.as_num(global_scope), rhs.as_num(global_scope)) {\n",
    "                Ok(Atomic::Bool(l >= r))\n",
    "            } else if let (Ok(l), Ok(r)) =\n",
    "                (lhs.as_string(global_scope), rhs.as_string(global_scope))\n",
    "            {\n",
    "                Ok(Atomic::Bool(l >= r))\n",
    "            } else {\n",
    "                Err(\"Invalid operands to comparison\".to_string())\n",
    "            }\n",
    "        }\n",
    "    }\n",
    "}\n",
    "\n",
    "fn eval_binary_op(\n",
    "    num_op: &BinaryOp,\n",
    "    global_scope: &mut HashMap<String, Expression>,\n",
    ") -> Result<Atomic, String> {\n",
    "    match num_op {\n",
    "        BinaryOp::Plus { left, right } => {\n",
    "            let left = left.as_num(global_scope)?;\n",
    "            let right = right.as_num(global_scope)?;\n",
    "            Ok(Atomic::Number(left + right))\n",
    "        }\n",
    "        BinaryOp::Minus { left, right } => {\n",
    "            let left = left.as_num(global_scope)?;\n",
    "            let right = right.as_num(global_scope)?;\n",
    "            Ok(Atomic::Number(left - right))\n",
    "        }\n",
    "        BinaryOp::Mul { left, right } => {\n",
    "            let left = left.as_num(global_scope)?;\n",
    "            let right = right.as_num(global_scope)?;\n",
    "            Ok(Atomic::Number(left * right))\n",
    "        }\n",
    "        BinaryOp::Div { left, right } => {\n",
    "            let left = left.as_num(global_scope)?;\n",
    "            let right = right.as_num(global_scope)?;\n",
    "            Ok(Atomic::Number(left / right))\n",
    "        }\n",
    "        BinaryOp::Mod { left, right } => {\n",
    "            let left = left.as_num(global_scope)?;\n",
    "            let right = right.as_num(global_scope)?;\n",
    "            Ok(Atomic::Number(left % right))\n",
    "        }\n",
    "        BinaryOp::Pow { left, right } => {\n",
    "            let left = left.as_num(global_scope)?;\n",
    "            let right = right.as_num(global_scope)?;\n",
    "            Ok(Atomic::Number(left.powf(right)))\n",
    "        }\n",
    "        BinaryOp::None => unreachable!(),\n",
    "    }\n",
    "}\n"
   ]
  },
  {
   "cell_type": "markdown",
   "metadata": {},
   "source": [
    "## Erster Test mit unserer Sprache\n",
    "\n",
    "Soweit so gut. Nun haben wir alle Elemente die wir brauchen, um Programme laufen zu lassen.\n",
    "\n",
    "Wir haben zuerst unser Datenmodel definiert. Diese Struktur haben wir unseren AST genannt, und sie sollte eine Struktur darstellen, die einfach ist zu evaluieren.\n",
    "\n",
    "Als nächstes haben wir angefangen Code zu schreiben, der das Resultat von `pest` (diese Pairs von Rules) verarbeitet hat, und in unseren AST umgewandelt hat. \n",
    "\n",
    "Zu guter letzt haben wir uns an die Evaluierung unseres AST gesetzt und sind nun am Punkt, wo wir ein erstes Programm ausführen können."
   ]
  },
  {
   "cell_type": "code",
   "execution_count": 61,
   "metadata": {
    "vscode": {
     "languageId": "rust"
    }
   },
   "outputs": [
    {
     "name": "stdout",
     "output_type": "stream",
     "text": [
      "String(\"Zum bispil isch:\")\n",
      "Number(3.0)\n",
      "String(\"en Teiler\")\n",
      "String(\"S isch also kei priim zahl\")\n",
      "Das Program wurde erfolgreich ausgeführt. Der Returnwert ist Null\n"
     ]
    }
   ],
   "source": [
    "// unser Program-Code, in diesem Beispiel benutzen wir den Primzahltester, aber wir können nun beliebige Programme erstellen.\n",
    "let unser_code = r#\"\n",
    "definier e variable wo priimZahl heisst mit em wert 10239;\n",
    "definier e variable wo teiler heisst mit em wert 2;\n",
    "definier e variable wo primzahlWurzel heisst mit em wert priimZahl hoch 0.5;\n",
    "definier e variable wo derest heisst mit em wert -1;\n",
    "definier e variable wo priimZahlGfunde heisst mit em wert wohr;\n",
    "\n",
    "solang de teiler kliiner oder gliich isch wie primzahlWurzel mach {\n",
    "    falls de (priimZahl rest teiler) gliich isch wie 0 mach {\n",
    "        priimZahlGfunde isch falsch;\n",
    "        gib us (\"Zum bispil isch: \");\n",
    "        gib us (teiler);\n",
    "        gib us (\"en Teiler\");\n",
    "        stop;\n",
    "    }\n",
    "    teiler isch teiler plus 1;\n",
    "}\n",
    "\n",
    "falls d priimZahlGfunde mach {\n",
    "    gib us (\"S isch e priim zahl\");\n",
    "} suscht {\n",
    "    gib us (\"S isch also kei priim zahl\");\n",
    "};\n",
    "\"#;\n",
    "\n",
    "// Wir parsen unseren Code mit pest\n",
    "let mut parse_result = UBPP::parse(Rule::file, unser_code).unwrap();\n",
    "//Unser Result wird nun in unseren AST umgewandelt..\n",
    "let parse_result = parse_result.next()\n",
    "                        .unwrap()\n",
    "                        .into_inner()\n",
    "                        .next()\n",
    "                        .unwrap();\n",
    "let tokens = parse_body(parse_result);\n",
    "\n",
    "// ... wir erstellen einen Scope für unser Program\n",
    "// diesen könnten wir z.B. auch benutzen um dem Programm ARgumente zu übergeben\n",
    "let mut global_tokens = HashMap::new();\n",
    "// Anschliessend wird es ausgeführt.\n",
    "let result = eval_tokens(&tokens, &mut global_tokens).unwrap();\n",
    "\n",
    "// Das Result in unserem Primzahltester sollte immer Null sein, da kein Resultat erwartet wird (der letzte Block ist ein Statement)\n",
    "println!(\"Das Program wurde erfolgreich ausgeführt. Der Returnwert ist {:?}\", result);"
   ]
  },
  {
   "cell_type": "markdown",
   "metadata": {},
   "source": [
    "Noice! Das funktioniert sogar! Es ist jetzt nur noch etwas uncool, dass wir den Debug output beim \"print\" Statement benutzen.\n",
    "\n",
    "```rust\n",
    "(...)\n",
    "\n",
    "Statement::Print(expression) => {\n",
    "    let result = eval_expression(expression, global_scope)?;\n",
    "    // Wir haben nur debug derived... wie können wir wohl display implementieren?\n",
    "    println!(\"{:?}\", result);\n",
    "    // println!(\"{}\", result);\n",
    "    Ok(result)\n",
    "}\n",
    "\n",
    "(...)\n",
    "```\n",
    "\n",
    "Wir können das besser machen. Wir haben anfangs mal erwähnt, dass es verschiedene Traits (Interfaces, Protokolle) gibt, die benutzt werden, um den Debug-String resp. den Display-String darzustellen. Wir kommen somit zum letzten Thema für heute."
   ]
  },
  {
   "cell_type": "markdown",
   "metadata": {},
   "source": [
    "## Traits\n",
    "\n",
    "Wir kennen nun bereits den Syntax, um Funktionen für Structs bereitzustellen. Die Implementierung eines Trait funktioniert sehr ähnlich. Einzig die Funktionen dürfen wir nun nicht mehr selber wählen, sondern sind durch die Traits bestimmt.\n",
    "\n",
    "Wir definieren mal ein einfaches Trait für uns. Traits besitzen Funktionen die implementiert werden müssen. Eine Trait-Definition darf auch \"default\" Funktionsimplementierungen bereitstellen, die benutzt werden, falls ein Implementer diese nicht überschreibt.\n",
    "\n",
    "> Rust Identifiers dürfen (fast) beliebige UTF8-Characters sein. Wir können also endlich unsere Umlaute und Griechischen Buchstaben benutzen!"
   ]
  },
  {
   "cell_type": "code",
   "execution_count": 62,
   "metadata": {
    "vscode": {
     "languageId": "rust"
    }
   },
   "outputs": [],
   "source": [
    "\n",
    "// Unser Trait\n",
    "pub trait Tier {\n",
    "    // in einem Trait können wir z.B. auch die explizite Implementierung haben\n",
    "    type Art;\n",
    "    // Dies ist eine statische Trait-Funktion\n",
    "    fn name() -> String;\n",
    "    // Hier haben wir eine Instanzfunktion.\n",
    "    fn mach_geräusch(&self);\n",
    "    fn mate(&self, other: &Self::Art) -> Self::Art;\n",
    "    // Dies stellt eine Default Implementierung dar. Implementers müssen diese nicht implementieren.\n",
    "    fn laufe(&self) {\n",
    "        println!(\"*quiiiek*\");\n",
    "    }\n",
    "}\n",
    "\n",
    "pub fn π() -> f32 {\n",
    "    std::f32::consts::PI\n",
    "}\n",
    "\n",
    "// Unsere zwei Tiere, Katze und Hund\n",
    "#[derive(Debug)]\n",
    "struct Katze {\n",
    "    name: String,\n",
    "}\n",
    "#[derive(Clone, Debug)]\n",
    "struct Hund {}"
   ]
  },
  {
   "cell_type": "markdown",
   "metadata": {},
   "source": [
    "Wir wollen nun das Trait für die beiden Structs implementieren. Dafür verwenden wir den `impl ... for ...` Syntax."
   ]
  },
  {
   "cell_type": "code",
   "execution_count": 63,
   "metadata": {
    "vscode": {
     "languageId": "rust"
    }
   },
   "outputs": [],
   "source": [
    "\n",
    "// Unsere Trait Implementierung\n",
    "impl Tier for Katze {\n",
    "    type Art = Katze;\n",
    "    fn name() -> String {\n",
    "        String::from(\"Katze\")\n",
    "    }\n",
    "    fn mach_geräusch(&self) {\n",
    "        println!(\"miau\");\n",
    "    }\n",
    "\n",
    "    fn mate(&self, other: &Self::Art) -> Self::Art {\n",
    "        Katze {\n",
    "            name: format!(\"{}<->{}\", self.name, other.name),\n",
    "        }\n",
    "    }\n",
    "}\n",
    "\n",
    "impl Tier for Hund {\n",
    "    type Art = Hund;\n",
    "\n",
    "    fn name() -> String {\n",
    "        String::from(\"Hund\")\n",
    "    }\n",
    "    fn mach_geräusch(&self) {\n",
    "        println!(\"wau\");\n",
    "    }\n",
    "\n",
    "    fn mate(&self, other: &Self::Art) -> Self::Art {\n",
    "        other.clone()\n",
    "    }\n",
    "}"
   ]
  },
  {
   "cell_type": "markdown",
   "metadata": {},
   "source": [
    "Wir können nun auf den Trait als Trait-Bound für Funktionen verwenden"
   ]
  },
  {
   "cell_type": "code",
   "execution_count": 68,
   "metadata": {
    "vscode": {
     "languageId": "rust"
    }
   },
   "outputs": [],
   "source": [
    "pub fn schlachte<T: Tier>(_tier: T) {\n",
    "    println!(\"*katschak*: {} tot\", T::name());\n",
    "}\n",
    "\n",
    "pub fn pflege<T>(_tier: T) where T: Tier {\n",
    "    println!(\"*petpet*\");\n",
    "}"
   ]
  },
  {
   "cell_type": "markdown",
   "metadata": {},
   "source": [
    "Und schauen uns den Output mal an"
   ]
  },
  {
   "cell_type": "code",
   "execution_count": 69,
   "metadata": {
    "vscode": {
     "languageId": "rust"
    }
   },
   "outputs": [
    {
     "ename": "Error",
     "evalue": "the usage of Script Group `Greek` in this crate consists solely of mixed script confusables",
     "output_type": "error",
     "traceback": [
      "",
      "the usage of Script Group `Greek` in this crate consists solely of mixed script confusables"
     ]
    },
    {
     "ename": "Error",
     "evalue": "mismatched types",
     "output_type": "error",
     "traceback": [
      "    hunderich.mate(&katze);",
      "                   ^^^^^^ expected struct `Hund`, found struct `Katze`",
      "    hunderich.mate(&katze);",
      "              ^^^^ arguments to this function are incorrect",
      "mismatched types"
     ]
    }
   ],
   "source": [
    "let kater = Katze {\n",
    "        name: \"Kater\".to_string(),\n",
    "    };\n",
    "    let katze = Katze {\n",
    "        name: \"Katze\".to_string(),\n",
    "    };\n",
    "    let hunderich = Hund {};\n",
    "\n",
    "    // zuerst katzen\n",
    "    kater.mach_geräusch();\n",
    "    katze.mach_geräusch();\n",
    "    katze.laufe();\n",
    "\n",
    "    let kind = kater.mate(&katze);\n",
    "    println!(\"Das Kind heisst: {}\", kind.name);\n",
    "\n",
    "    hunderich.mach_geräusch();\n",
    "    hunderich.laufe();\n",
    "\n",
    "    // Warum geht das nicht?\n",
    "    hunderich.mate(&katze);\n",
    "\n",
    "    schlachte(kater);\n",
    "    schlachte(hunderich);\n",
    "    // Was ist hier das Problem?\n",
    "    kater.laufe();"
   ]
  },
  {
   "cell_type": "markdown",
   "metadata": {},
   "source": [
    "Lange Rede kurzer Sinn, wir können nun unsere Display-Implementierung für unseren Typen definieren\n"
   ]
  },
  {
   "cell_type": "code",
   "execution_count": 71,
   "metadata": {
    "vscode": {
     "languageId": "rust"
    }
   },
   "outputs": [
    {
     "ename": "Error",
     "evalue": "the usage of Script Group `Greek` in this crate consists solely of mixed script confusables",
     "output_type": "error",
     "traceback": [
      "",
      "the usage of Script Group `Greek` in this crate consists solely of mixed script confusables"
     ]
    },
    {
     "ename": "Error",
     "evalue": "conflicting implementations of trait `std::fmt::Display` for type `Atomic`",
     "output_type": "error",
     "traceback": [
      "impl Display for Atomic {",
      "^^^^^^^^^^^^^^^^^^^^^^^ conflicting implementation for `Atomic`",
      "conflicting implementations of trait `std::fmt::Display` for type `Atomic`"
     ]
    }
   ],
   "source": [
    "use std::fmt::Display;\n",
    "\n",
    "impl Display for Atomic {\n",
    "    fn fmt(&self, f: &mut std::fmt::Formatter<'_>) -> std::fmt::Result {\n",
    "        match self {\n",
    "            Atomic::String(s) => f.write_str(s),\n",
    "            Atomic::Number(n) => f.write_str(&n.to_string()),\n",
    "            Atomic::Bool(b) => f.write_str(&b.to_string()),\n",
    "            Atomic::Null => f.write_str(\"null\"),\n",
    "            Atomic::Interrupt => f.write_str(\"<< interrupt >>\"),\n",
    "        }\n",
    "    }\n",
    "}"
   ]
  },
  {
   "cell_type": "markdown",
   "metadata": {},
   "source": [
    "# Schlusswort\n",
    "\n",
    "Wir sind nun am Schluss des Tutorials. Wenn man sich sicher fühlt, kann man nun anfangen, den eigenen Dialekt in die Grammatik zu übernehmen. Weiter ist im Moment String Concatenation nicht definiert. Dies wäre eine gute Excercise, um das eigene Rust-Wissen zu überprüfen!\n"
   ]
  }
 ],
 "metadata": {
  "kernelspec": {
   "display_name": "Rust",
   "language": "rust",
   "name": "rust"
  },
  "language_info": {
   "codemirror_mode": "rust",
   "file_extension": ".rs",
   "mimetype": "text/rust",
   "name": "Rust",
   "pygment_lexer": "rust",
   "version": ""
  },
  "orig_nbformat": 4
 },
 "nbformat": 4,
 "nbformat_minor": 2
}
